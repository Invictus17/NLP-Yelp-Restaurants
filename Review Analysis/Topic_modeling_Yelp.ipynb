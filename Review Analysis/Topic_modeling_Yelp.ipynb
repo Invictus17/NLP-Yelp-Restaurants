{
 "cells": [
  {
   "cell_type": "markdown",
   "metadata": {
    "colab_type": "text",
    "id": "hB7mO3l6jUQR"
   },
   "source": [
    "**Imports**"
   ]
  },
  {
   "cell_type": "code",
   "execution_count": 0,
   "metadata": {
    "colab": {
     "base_uri": "https://localhost:8080/",
     "height": 51
    },
    "colab_type": "code",
    "id": "dDd_g7FCHTCN",
    "outputId": "e2223ed6-1e76-4fa9-8a7a-f835e378969a"
   },
   "outputs": [
    {
     "name": "stdout",
     "output_type": "stream",
     "text": [
      "[nltk_data] Downloading package words to /root/nltk_data...\n",
      "[nltk_data]   Package words is already up-to-date!\n"
     ]
    }
   ],
   "source": [
    "# Importing modules\n",
    "import pandas as pd\n",
    "import os\n",
    "import re\n",
    "import nltk\n",
    "nltk.download('words')\n",
    "\n",
    "from sklearn.feature_extraction.text import TfidfVectorizer, CountVectorizer\n",
    "import numpy as np\n",
    "import matplotlib.pyplot as plt\n",
    "import seaborn as sns\n",
    "from sklearn.decomposition import NMF, LatentDirichletAllocation as LDA"
   ]
  },
  {
   "cell_type": "markdown",
   "metadata": {
    "colab_type": "text",
    "id": "GAgV7NL-jYaI"
   },
   "source": [
    "**Read sample reviews**"
   ]
  },
  {
   "cell_type": "code",
   "execution_count": 0,
   "metadata": {
    "colab": {
     "base_uri": "https://localhost:8080/",
     "height": 1000
    },
    "colab_type": "code",
    "id": "uzzFW1HXI8Ne",
    "outputId": "a62a3bf9-0efd-46b6-e810-6446ce23b6e9"
   },
   "outputs": [
    {
     "data": {
      "text/html": [
       "<div>\n",
       "<style scoped>\n",
       "    .dataframe tbody tr th:only-of-type {\n",
       "        vertical-align: middle;\n",
       "    }\n",
       "\n",
       "    .dataframe tbody tr th {\n",
       "        vertical-align: top;\n",
       "    }\n",
       "\n",
       "    .dataframe thead th {\n",
       "        text-align: right;\n",
       "    }\n",
       "</style>\n",
       "<table border=\"1\" class=\"dataframe\">\n",
       "  <thead>\n",
       "    <tr style=\"text-align: right;\">\n",
       "      <th></th>\n",
       "      <th>review_id</th>\n",
       "      <th>user_id</th>\n",
       "      <th>business_id</th>\n",
       "      <th>stars</th>\n",
       "      <th>date</th>\n",
       "      <th>text</th>\n",
       "      <th>useful</th>\n",
       "      <th>funny</th>\n",
       "      <th>cool</th>\n",
       "    </tr>\n",
       "  </thead>\n",
       "  <tbody>\n",
       "    <tr>\n",
       "      <th>0</th>\n",
       "      <td>ApmUOTRfk3pB6USCiSHl0Q</td>\n",
       "      <td>LMxsgATZnl_Vw0Kze7HdQQ</td>\n",
       "      <td>S_bG5WWbtNXhhY9Y0GTcSg</td>\n",
       "      <td>4</td>\n",
       "      <td>2016-09-21</td>\n",
       "      <td>Had the cheese quesadilla and a chai tea. It was delicious and refreshing overall. The service was great. Next time I'm trying something different.</td>\n",
       "      <td>0</td>\n",
       "      <td>0</td>\n",
       "      <td>0</td>\n",
       "    </tr>\n",
       "    <tr>\n",
       "      <th>1</th>\n",
       "      <td>TPBUEeKPKH1SfCDZQlFKkQ</td>\n",
       "      <td>UOKFUQlGWmMEjwiGFwACdQ</td>\n",
       "      <td>JQ4E1Im1dHMpDa1s4vJMoQ</td>\n",
       "      <td>4</td>\n",
       "      <td>2010-08-15</td>\n",
       "      <td>After looking at the other reviews about this restaurant, I was not sure if Woodlands would live up to my expectations.\\nBut as seen from my review, it really is a 5 Star restaurant.\\nThe Chilly Pakoda is what we started with, moved to Assorted Appetizers, parallel-ly having Hayward 5000, an Indian Beer. Chilly Pakoda along with the green chilly sauce can make some people sweat. Hayward-5000 brought India feeling back making me feel I am home (in India). Chole Bature was good and filling, a little more spicy would have made it simply awesome.\\nDal Tadka was surprisingly without Tadka that was a bummer and Vegetable Pulav was OK-ish.\\n\\nThe service from Christopher was really top class and friendly. \\n\\nEnding our meal with the Sweet Lassi and Mysore Coffee was like icing on the cake.\\nSince it was raining outside in Charlotte yesterday, Mysore coffee was really amazing.</td>\n",
       "      <td>2</td>\n",
       "      <td>0</td>\n",
       "      <td>1</td>\n",
       "    </tr>\n",
       "    <tr>\n",
       "      <th>2</th>\n",
       "      <td>wdYB-bpUYt_lVodoKi56Ig</td>\n",
       "      <td>-od707p4FHGul0gte29AoQ</td>\n",
       "      <td>Yv4P4qUwd7F-qQ4Y4eD1JQ</td>\n",
       "      <td>3</td>\n",
       "      <td>2016-12-21</td>\n",
       "      <td>So I may not be the best person the review this place since I'm not a lover of the kind of food they serve. \\nWe went with a few friends and I found the food to be an Asian Gastropub fusion. Most food items were very heavy, creamy and cheezy. I found myself wishing they had stuff to the fresh flavours that are so unique to Asian cuisine. Also the place was too loud and I could barley hear my friend sitting next to me. \\n\\nGood place the try once but I don't see myself going back soon.</td>\n",
       "      <td>0</td>\n",
       "      <td>0</td>\n",
       "      <td>0</td>\n",
       "    </tr>\n",
       "    <tr>\n",
       "      <th>3</th>\n",
       "      <td>RMeMYKXgKjCa2gJ03APC7g</td>\n",
       "      <td>SdxHtbvFQJAgPUkQfE4CIQ</td>\n",
       "      <td>Q2ZNaN3p8s_-XXjBWyY2qA</td>\n",
       "      <td>5</td>\n",
       "      <td>2014-06-05</td>\n",
       "      <td>I'm here for a VMWare presentation lunch.  The staff here just bust their humps to serve.  Ever so polite and friendly. Albeit the private room is a little tight for this audience. The staff have to squeeze thorough tight tables and people. Service-Excellent. Food just awesome. Steak is their pride and joy and rightfully so. Excellent but looking it is pricey. Staff make this establishment excellent. I said that already.</td>\n",
       "      <td>0</td>\n",
       "      <td>1</td>\n",
       "      <td>0</td>\n",
       "    </tr>\n",
       "    <tr>\n",
       "      <th>4</th>\n",
       "      <td>nXCAYS5UQnuw-CbhGnf5pQ</td>\n",
       "      <td>30SOROHP54Tn6ELl_YgeXg</td>\n",
       "      <td>UFyzcr1y2r3y-e_tNpA9VA</td>\n",
       "      <td>2</td>\n",
       "      <td>2013-03-27</td>\n",
       "      <td>Was driving by Madison and thought we'd get some BBQ.  I had the spicy chicken, which was just a chicken breast on a bun, with sauce on the side.  That was it, not even a big chicken breast? \\n\\nMy wife had the turkey sandwich, which didn't appear to be anything special either.  It looked like it was from a grocery store.\\n\\nKids liked the burger and brats.\\n\\nWhat I didn't like was the prices, sandwich platters were $8.45 each and drinks were $1.99 each.  Wasted my money on these as they don't give you a drink you can take with you and it's a plastic cup.  \\n\\nWhat I did like was the sides, except for the one order of fried biscuit, which was raw in the middle.  Threw them out.\\n\\nLast, I've never been to a BBQ place with no sauces on the table and only one served with the order.  I liked the sauce, but with all of the awards on the wall, they should offer a few options. \\n\\nShould have gotten the pulled pork.</td>\n",
       "      <td>0</td>\n",
       "      <td>0</td>\n",
       "      <td>0</td>\n",
       "    </tr>\n",
       "  </tbody>\n",
       "</table>\n",
       "</div>"
      ],
      "text/plain": [
       "                review_id                 user_id  ... funny  cool\n",
       "0  ApmUOTRfk3pB6USCiSHl0Q  LMxsgATZnl_Vw0Kze7HdQQ  ...  0     0   \n",
       "1  TPBUEeKPKH1SfCDZQlFKkQ  UOKFUQlGWmMEjwiGFwACdQ  ...  0     1   \n",
       "2  wdYB-bpUYt_lVodoKi56Ig  -od707p4FHGul0gte29AoQ  ...  0     0   \n",
       "3  RMeMYKXgKjCa2gJ03APC7g  SdxHtbvFQJAgPUkQfE4CIQ  ...  1     0   \n",
       "4  nXCAYS5UQnuw-CbhGnf5pQ  30SOROHP54Tn6ELl_YgeXg  ...  0     0   \n",
       "\n",
       "[5 rows x 9 columns]"
      ]
     },
     "execution_count": 32,
     "metadata": {
      "tags": []
     },
     "output_type": "execute_result"
    }
   ],
   "source": [
    "\n",
    "reviews = pd.read_csv('yelp_restaurant_reviews_sample.csv')\n",
    "reviews.head(5)"
   ]
  },
  {
   "cell_type": "markdown",
   "metadata": {
    "colab_type": "text",
    "id": "PFySedIwjp5A"
   },
   "source": [
    "**Look at distribution of review rating**\n",
    "\n"
   ]
  },
  {
   "cell_type": "code",
   "execution_count": 0,
   "metadata": {
    "colab": {
     "base_uri": "https://localhost:8080/",
     "height": 119
    },
    "colab_type": "code",
    "id": "Wbey3f8TK-10",
    "outputId": "343ed3cd-4861-4198-f288-e929d30c4d98"
   },
   "outputs": [
    {
     "data": {
      "text/plain": [
       "5    37251\n",
       "4    27817\n",
       "3    14090\n",
       "1    11395\n",
       "2    9447 \n",
       "Name: stars, dtype: int64"
      ]
     },
     "execution_count": 33,
     "metadata": {
      "tags": []
     },
     "output_type": "execute_result"
    }
   ],
   "source": [
    "reviews['stars'].value_counts()"
   ]
  },
  {
   "cell_type": "markdown",
   "metadata": {
    "colab_type": "text",
    "id": "PyQ5NL9Tjuw1"
   },
   "source": [
    "**Text cleaning**"
   ]
  },
  {
   "cell_type": "code",
   "execution_count": 0,
   "metadata": {
    "colab": {
     "base_uri": "https://localhost:8080/",
     "height": 139
    },
    "colab_type": "code",
    "id": "7KWcMfLbJ3Is",
    "outputId": "ee86adb6-b719-43a6-da60-28d2b50e1e5e"
   },
   "outputs": [
    {
     "data": {
      "text/plain": [
       "0    had the cheese and a chai tea it was delicious and refreshing overall the service was great next time i ' m trying something different                                                                                                                                                                                                                                                                                                                                                                                                                                                                                                                                                                                                                                      \n",
       "1    after looking at the other about this restaurant i was not sure if would live up to my as seen from my review it really is a 5 star chilly is what we with to assorted parallel - ly hayward 5000 an beer chilly along with the green chilly sauce can make some people sweat hayward - 5000 brought feeling back making me feel i am home ( in ) was good and filling a little more spicy would have made it simply was surprisingly without that was a bummer and vegetable was - service from was really top class and friendly ending our meal with the sweet and coffee was like icing on the it was outside in yesterday coffee was really amazing                                                                                                                    \n",
       "2    so i may not be the best person the review this place since i ' m not a lover of the kind of food they serve we went with a few and i found the food to be an fusion most food were very heavy creamy and i found myself wishing they had stuff to the fresh that are so unique to cuisine also the place was too loud and i could barley hear my friend sitting next to me good place the try once but i don ' t see myself going back soon                                                                                                                                                                                                                                                                                                                                \n",
       "3    i ' m here for a presentation lunch the staff here just bust their to serve ever so polite and friendly albeit the private room is a little tight for this audience the staff have to squeeze thorough tight tables and people service - excellent food just awesome steak is their pride and joy and rightfully so excellent but looking it is staff make this establishment excellent i said that already                                                                                                                                                                                                                                                                                                                                                                 \n",
       "4    was driving by and thought we ' d get some i had the spicy chicken which was just a chicken breast on a bun with sauce on the side that was it not even a big chicken breast my wife had the turkey sandwich which ' t appear to be anything special either it like it was from a grocery the and i ' t like was the sandwich were $ 845 each and were $ 199 each wasted my money on these as they don ' t give you a drink you can take with you and it ' s a plastic cup what i did like was the sides except for the one order of fried biscuit which was raw in the middle threw them outlast i ' never been to a place with no on the table and only one with the order i the sauce but with all of the on the wall they should offer a few should have gotten the pork\n",
       "Name: text_processed, dtype: object"
      ]
     },
     "execution_count": 38,
     "metadata": {
      "tags": []
     },
     "output_type": "execute_result"
    }
   ],
   "source": [
    "words = set(nltk.corpus.words.words())\n",
    "def keep_english_words(sentence):\n",
    "  return \" \".join(w for w in nltk.wordpunct_tokenize(sentence) \\\n",
    "                  if w.lower() in words or not w.isalpha())\n",
    "\n",
    "reviews['text_processed'] = reviews['text'].map(lambda x: re.sub('[,\\.!?\\\\n]', '', x))\n",
    "reviews['text_processed'] = reviews['text_processed'].map(lambda x: x.lower())\n",
    "reviews['text_processed'] = reviews['text_processed'].map(lambda x: keep_english_words(x))\n",
    "# ?replace numbers with price\n",
    "\n",
    "# Print out the first rows of papers\n",
    "reviews['text_processed'].head(5)"
   ]
  },
  {
   "cell_type": "markdown",
   "metadata": {
    "colab_type": "text",
    "id": "HI3guLyUkoyC"
   },
   "source": [
    "**Word Cloud**"
   ]
  },
  {
   "cell_type": "code",
   "execution_count": 0,
   "metadata": {
    "colab": {
     "base_uri": "https://localhost:8080/",
     "height": 217
    },
    "colab_type": "code",
    "id": "BDP9DmmTKG8c",
    "outputId": "158a2832-9ce2-496c-f588-53ecc9b009dd"
   },
   "outputs": [
    {
     "data": {
      "image/png": "[encoded data removed]",
      "text/plain": [
       "<PIL.Image.Image image mode=RGB size=400x200 at 0x7FBD0B480710>"
      ]
     },
     "execution_count": 13,
     "metadata": {
      "tags": []
     },
     "output_type": "execute_result"
    }
   ],
   "source": [
    "from wordcloud import WordCloud\n",
    "\n",
    "negative_reviews = reviews[reviews['stars'] <= 2].reset_index(drop = True)\n",
    "\n",
    "long_string = ','.join(list(negative_reviews['text_processed'] .values))\n",
    "wordcloud = WordCloud(background_color=\"white\", \n",
    "                      max_words=5000, \n",
    "                      contour_width=3, \n",
    "                      contour_color='steelblue')\n",
    "wordcloud.generate(long_string)\n",
    "wordcloud.to_image()\n"
   ]
  },
  {
   "cell_type": "markdown",
   "metadata": {
    "colab_type": "text",
    "id": "ujL29wtVlBPB"
   },
   "source": [
    "**Fit LDA model**"
   ]
  },
  {
   "cell_type": "code",
   "execution_count": 0,
   "metadata": {
    "colab": {
     "base_uri": "https://localhost:8080/",
     "height": 374
    },
    "colab_type": "code",
    "id": "BPlQvqqhKs8a",
    "outputId": "812a5e02-406a-47df-be1a-c1fb7dd7518c"
   },
   "outputs": [
    {
     "name": "stdout",
     "output_type": "stream",
     "text": [
      "Fitting LDA models with tf features, n_samples=20842 and n_features=1000...\n",
      "iteration: 1 of max_iter: 5\n",
      "iteration: 2 of max_iter: 5\n",
      "iteration: 3 of max_iter: 5\n",
      "iteration: 4 of max_iter: 5\n",
      "iteration: 5 of max_iter: 5\n",
      "\n",
      "Topic #0:\n",
      "food chicken good like ordered place just sauce rice service\n",
      "\n",
      "Topic #1:\n",
      "place like just food good don really ve burger time\n",
      "\n",
      "Topic #2:\n",
      "order food minutes time service said got told asked ordered\n",
      "\n",
      "Topic #3:\n",
      "food just place good pizza service restaurant time bar like\n",
      "\n",
      "Topic #4:\n",
      "food service table manager time restaurant came server did asked\n"
     ]
    }
   ],
   "source": [
    "# Initialise the count vectorizer with the English stop words\n",
    "n_features = 1000\n",
    "n_samples = len(negative_reviews)\n",
    "count_vectorizer = CountVectorizer(max_df=0.95, min_df=10,\n",
    "                                max_features=n_features,\n",
    "                                stop_words='english')\n",
    "\n",
    "count_data = count_vectorizer.fit_transform(negative_reviews['text_processed'])\n",
    "\n",
    "def print_topics(model, vectorizer, n_top_words):\n",
    "    words = vectorizer.get_feature_names()\n",
    "    for topic_idx, topic in enumerate(model.components_):\n",
    "        print(\"\\nTopic #%d:\" % topic_idx)\n",
    "        print(\" \".join([words[i]\n",
    "                        for i in topic.argsort()[:-n_top_words - 1:-1]]))\n",
    "\n",
    "number_topics = 5\n",
    "number_words = 10\n",
    "\n",
    "lda = LDA(n_components = number_topics,\n",
    "          learning_method = 'batch',\n",
    "          learning_decay = 0.7,\n",
    "          max_iter = 5,\n",
    "          verbose = 1,\n",
    "          random_state = 0,\n",
    "          n_jobs=-1)\n",
    "\n",
    "print(\"Fitting LDA models with tf features, \"\n",
    "      \"n_samples = %d and n_features = %d...\"\n",
    "      % (n_samples, n_features))\n",
    "\n",
    "lda.fit(count_data)\n",
    "\n",
    "print_topics(lda, count_vectorizer, number_words)\n"
   ]
  },
  {
   "cell_type": "markdown",
   "metadata": {
    "colab_type": "text",
    "id": "DBnB25sYib9I"
   },
   "source": [
    "**Check Dominant Topic in each document**"
   ]
  },
  {
   "cell_type": "code",
   "execution_count": 0,
   "metadata": {
    "colab": {
     "base_uri": "https://localhost:8080/",
     "height": 419
    },
    "colab_type": "code",
    "id": "asrMaBreh9te",
    "outputId": "80402673-0912-4bd9-d316-4e08db46d0bc"
   },
   "outputs": [
    {
     "data": {
      "text/html": [
       "<div>\n",
       "<style scoped>\n",
       "    .dataframe tbody tr th:only-of-type {\n",
       "        vertical-align: middle;\n",
       "    }\n",
       "\n",
       "    .dataframe tbody tr th {\n",
       "        vertical-align: top;\n",
       "    }\n",
       "\n",
       "    .dataframe thead th {\n",
       "        text-align: right;\n",
       "    }\n",
       "</style>\n",
       "<table border=\"1\" class=\"dataframe\">\n",
       "  <thead>\n",
       "    <tr style=\"text-align: right;\">\n",
       "      <th></th>\n",
       "      <th>Topic0</th>\n",
       "      <th>Topic1</th>\n",
       "      <th>Topic2</th>\n",
       "      <th>Topic3</th>\n",
       "      <th>Topic4</th>\n",
       "      <th>dominant_topic</th>\n",
       "    </tr>\n",
       "  </thead>\n",
       "  <tbody>\n",
       "    <tr>\n",
       "      <th>Doc0</th>\n",
       "      <td>0.80</td>\n",
       "      <td>0.19</td>\n",
       "      <td>0.00</td>\n",
       "      <td>0.00</td>\n",
       "      <td>0.00</td>\n",
       "      <td>7</td>\n",
       "    </tr>\n",
       "    <tr>\n",
       "      <th>Doc1</th>\n",
       "      <td>0.01</td>\n",
       "      <td>0.57</td>\n",
       "      <td>0.40</td>\n",
       "      <td>0.01</td>\n",
       "      <td>0.01</td>\n",
       "      <td>7</td>\n",
       "    </tr>\n",
       "    <tr>\n",
       "      <th>Doc2</th>\n",
       "      <td>0.64</td>\n",
       "      <td>0.00</td>\n",
       "      <td>0.00</td>\n",
       "      <td>0.35</td>\n",
       "      <td>0.00</td>\n",
       "      <td>0</td>\n",
       "    </tr>\n",
       "    <tr>\n",
       "      <th>Doc3</th>\n",
       "      <td>0.00</td>\n",
       "      <td>0.00</td>\n",
       "      <td>0.99</td>\n",
       "      <td>0.00</td>\n",
       "      <td>0.00</td>\n",
       "      <td>7</td>\n",
       "    </tr>\n",
       "    <tr>\n",
       "      <th>Doc4</th>\n",
       "      <td>0.49</td>\n",
       "      <td>0.00</td>\n",
       "      <td>0.50</td>\n",
       "      <td>0.00</td>\n",
       "      <td>0.00</td>\n",
       "      <td>7</td>\n",
       "    </tr>\n",
       "    <tr>\n",
       "      <th>...</th>\n",
       "      <td>...</td>\n",
       "      <td>...</td>\n",
       "      <td>...</td>\n",
       "      <td>...</td>\n",
       "      <td>...</td>\n",
       "      <td>...</td>\n",
       "    </tr>\n",
       "    <tr>\n",
       "      <th>Doc20837</th>\n",
       "      <td>0.60</td>\n",
       "      <td>0.39</td>\n",
       "      <td>0.00</td>\n",
       "      <td>0.00</td>\n",
       "      <td>0.00</td>\n",
       "      <td>0</td>\n",
       "    </tr>\n",
       "    <tr>\n",
       "      <th>Doc20838</th>\n",
       "      <td>0.00</td>\n",
       "      <td>0.07</td>\n",
       "      <td>0.00</td>\n",
       "      <td>0.92</td>\n",
       "      <td>0.00</td>\n",
       "      <td>0</td>\n",
       "    </tr>\n",
       "    <tr>\n",
       "      <th>Doc20839</th>\n",
       "      <td>0.00</td>\n",
       "      <td>0.00</td>\n",
       "      <td>0.32</td>\n",
       "      <td>0.45</td>\n",
       "      <td>0.22</td>\n",
       "      <td>7</td>\n",
       "    </tr>\n",
       "    <tr>\n",
       "      <th>Doc20840</th>\n",
       "      <td>0.72</td>\n",
       "      <td>0.01</td>\n",
       "      <td>0.01</td>\n",
       "      <td>0.25</td>\n",
       "      <td>0.01</td>\n",
       "      <td>0</td>\n",
       "    </tr>\n",
       "    <tr>\n",
       "      <th>Doc20841</th>\n",
       "      <td>0.38</td>\n",
       "      <td>0.61</td>\n",
       "      <td>0.00</td>\n",
       "      <td>0.00</td>\n",
       "      <td>0.00</td>\n",
       "      <td>0</td>\n",
       "    </tr>\n",
       "  </tbody>\n",
       "</table>\n",
       "<p>20842 rows × 6 columns</p>\n",
       "</div>"
      ],
      "text/plain": [
       "          Topic0  Topic1  Topic2  Topic3  Topic4  dominant_topic\n",
       "Doc0      0.80    0.19    0.00    0.00    0.00    7             \n",
       "Doc1      0.01    0.57    0.40    0.01    0.01    7             \n",
       "Doc2      0.64    0.00    0.00    0.35    0.00    0             \n",
       "Doc3      0.00    0.00    0.99    0.00    0.00    7             \n",
       "Doc4      0.49    0.00    0.50    0.00    0.00    7             \n",
       "...        ...     ...     ...     ...     ...   ..             \n",
       "Doc20837  0.60    0.39    0.00    0.00    0.00    0             \n",
       "Doc20838  0.00    0.07    0.00    0.92    0.00    0             \n",
       "Doc20839  0.00    0.00    0.32    0.45    0.22    7             \n",
       "Doc20840  0.72    0.01    0.01    0.25    0.01    0             \n",
       "Doc20841  0.38    0.61    0.00    0.00    0.00    0             \n",
       "\n",
       "[20842 rows x 6 columns]"
      ]
     },
     "execution_count": 62,
     "metadata": {
      "tags": []
     },
     "output_type": "execute_result"
    }
   ],
   "source": [
    "lda_output = lda.transform(count_data)\n",
    "topicnames = [\"Topic\" + str(i) for i in range(number_topics)]\n",
    "docnames = [\"Doc\" + str(i) for i in range(count_data.shape[0])]\n",
    "df_document_topic_lda = pd.DataFrame(np.round(lda_output, 2), columns=topicnames, \n",
    "                                 index=docnames)\n",
    "\n",
    "# Get dominant topic for each document\n",
    "dominant_topic = np.argmax(df_document_topic.values, axis=1)\n",
    "df_document_topic_lda['dominant_topic'] = dominant_topic\n",
    "\n",
    "df_document_topic_lda"
   ]
  },
  {
   "cell_type": "code",
   "execution_count": 0,
   "metadata": {
    "colab": {
     "base_uri": "https://localhost:8080/",
     "height": 54
    },
    "colab_type": "code",
    "id": "x78pOaU3OYcO",
    "outputId": "ef04b4f7-7a52-4d1b-f538-ae14a38a9f0f"
   },
   "outputs": [
    {
     "data": {
      "text/plain": [
       "'beware of online ordersdon\\'t get me wrong i love wingstop  back when i lived in texas they were everywhere  what i don\\'t love is the online ordering system at this location  less than a month ago i placed an order for pick-up after i got off work  i go to pick it up right on timeand had to wait  35 minutes  what\\'s the point of ordering online ahead of timefast forward to today when i placed an order to pick-up during my lunch break  i arrive and tell them i ordered online and gave them my name the response  \"we only have one online order open did you order under the name caroline\"  i show them my e-mail proving i ordered for pick-up at this locationthe cashier just kind of stared at me offering nothing but a 20 minute wait time to fry up a batch of wings  tl;dr don\\'t order online here they\\'ll screw it all up'"
      ]
     },
     "execution_count": 18,
     "metadata": {
      "tags": []
     },
     "output_type": "execute_result"
    }
   ],
   "source": [
    "pd.set_option('display.max_colwidth', -1)  \n",
    "\n",
    "negative_reviews['text_processed'][3]"
   ]
  },
  {
   "cell_type": "markdown",
   "metadata": {
    "colab_type": "text",
    "id": "G8mrnm2xm0sB"
   },
   "source": [
    "**Visualize the topics-keywords distribution.**"
   ]
  },
  {
   "cell_type": "code",
   "execution_count": 0,
   "metadata": {
    "colab": {
     "base_uri": "https://localhost:8080/",
     "height": 1000
    },
    "colab_type": "code",
    "id": "VeNrtyZPX4XY",
    "outputId": "ebca8755-2cb8-451d-f7e2-4f35bfd42127"
   },
   "outputs": [
    {
     "name": "stderr",
     "output_type": "stream",
     "text": [
      "/usr/local/lib/python3.6/dist-packages/pyLDAvis/_prepare.py:257: FutureWarning: Sorting because non-concatenation axis is not aligned. A future version\n",
      "of pandas will change to not sort by default.\n",
      "\n",
      "To accept the future behavior, pass 'sort=False'.\n",
      "\n",
      "To retain the current behavior and silence the warning, pass 'sort=True'.\n",
      "\n",
      "  return pd.concat([default_term_info] + list(topic_dfs))\n"
     ]
    },
    {
     "data": {
      "text/html": [
       "\n",
       "<link rel=\"stylesheet\" type=\"text/css\" href=\"https://cdn.rawgit.com/bmabey/pyLDAvis/files/ldavis.v1.0.0.css\">\n",
       "\n",
       "\n",
       "<div id=\"ldavis_el1221399703611794968709248404\"></div>\n",
       "<script type=\"text/javascript\">\n",
       "\n",
       "var ldavis_el1221399703611794968709248404_data = {\"mdsDat\": {\"x\": [-0.12556849321181301, 0.005342512022462529, 0.03229865255938456, -0.02145104921880799, 0.10937837784877388], \"y\": [0.012189506845503103, 0.05789945464205502, 0.0020081930611576446, -0.06911516437728617, -0.0029819901714296807], \"topics\": [1, 2, 3, 4, 5], \"cluster\": [1, 1, 1, 1, 1], \"Freq\": [35.382233078542946, 19.38000950516802, 18.08636374684125, 15.425317048392126, 11.726076621055656]}, \"tinfo\": {\"Category\": [\"Default\", \"Default\", \"Default\", \"Default\", \"Default\", \"Default\", \"Default\", \"Default\", \"Default\", \"Default\", \"Default\", \"Default\", \"Default\", \"Default\", \"Default\", \"Default\", \"Default\", \"Default\", \"Default\", \"Default\", \"Default\", \"Default\", \"Default\", \"Default\", \"Default\", \"Default\", \"Default\", \"Default\", \"Default\", \"Default\", \"Topic1\", \"Topic1\", \"Topic1\", \"Topic1\", \"Topic1\", \"Topic1\", \"Topic1\", \"Topic1\", \"Topic1\", \"Topic1\", \"Topic1\", \"Topic1\", \"Topic1\", \"Topic1\", \"Topic1\", \"Topic1\", \"Topic1\", \"Topic1\", \"Topic1\", \"Topic1\", \"Topic1\", \"Topic1\", \"Topic1\", \"Topic1\", \"Topic1\", \"Topic1\", \"Topic1\", \"Topic1\", \"Topic1\", \"Topic1\", \"Topic1\", \"Topic1\", \"Topic1\", \"Topic1\", \"Topic1\", \"Topic1\", \"Topic1\", \"Topic1\", \"Topic1\", \"Topic1\", \"Topic1\", \"Topic1\", \"Topic1\", \"Topic1\", \"Topic1\", \"Topic1\", \"Topic1\", \"Topic1\", \"Topic1\", \"Topic1\", \"Topic1\", \"Topic1\", \"Topic1\", \"Topic1\", \"Topic1\", \"Topic1\", \"Topic1\", \"Topic1\", \"Topic1\", \"Topic1\", \"Topic1\", \"Topic1\", \"Topic1\", \"Topic1\", \"Topic1\", \"Topic1\", \"Topic1\", \"Topic1\", \"Topic1\", \"Topic1\", \"Topic2\", \"Topic2\", \"Topic2\", \"Topic2\", \"Topic2\", \"Topic2\", \"Topic2\", \"Topic2\", \"Topic2\", \"Topic2\", \"Topic2\", \"Topic2\", \"Topic2\", \"Topic2\", \"Topic2\", \"Topic2\", \"Topic2\", \"Topic2\", \"Topic2\", \"Topic2\", \"Topic2\", \"Topic2\", \"Topic2\", \"Topic2\", \"Topic2\", \"Topic2\", \"Topic2\", \"Topic2\", \"Topic2\", \"Topic2\", \"Topic2\", \"Topic2\", \"Topic2\", \"Topic2\", \"Topic2\", \"Topic2\", \"Topic2\", \"Topic2\", \"Topic2\", \"Topic2\", \"Topic2\", \"Topic2\", \"Topic2\", \"Topic2\", \"Topic2\", \"Topic2\", \"Topic2\", \"Topic2\", \"Topic2\", \"Topic2\", \"Topic2\", \"Topic2\", \"Topic2\", \"Topic2\", \"Topic2\", \"Topic2\", \"Topic2\", \"Topic2\", \"Topic2\", \"Topic2\", \"Topic2\", \"Topic2\", \"Topic2\", \"Topic2\", \"Topic2\", \"Topic2\", \"Topic3\", \"Topic3\", \"Topic3\", \"Topic3\", \"Topic3\", \"Topic3\", \"Topic3\", \"Topic3\", \"Topic3\", \"Topic3\", \"Topic3\", \"Topic3\", \"Topic3\", \"Topic3\", \"Topic3\", \"Topic3\", \"Topic3\", \"Topic3\", \"Topic3\", \"Topic3\", \"Topic3\", \"Topic3\", \"Topic3\", \"Topic3\", \"Topic3\", \"Topic3\", \"Topic3\", \"Topic3\", \"Topic3\", \"Topic3\", \"Topic3\", \"Topic3\", \"Topic3\", \"Topic3\", \"Topic3\", \"Topic3\", \"Topic3\", \"Topic3\", \"Topic3\", \"Topic3\", \"Topic3\", \"Topic3\", \"Topic3\", \"Topic3\", \"Topic3\", \"Topic3\", \"Topic3\", \"Topic3\", \"Topic3\", \"Topic3\", \"Topic3\", \"Topic3\", \"Topic3\", \"Topic3\", \"Topic3\", \"Topic3\", \"Topic3\", \"Topic3\", \"Topic3\", \"Topic4\", \"Topic4\", \"Topic4\", \"Topic4\", \"Topic4\", \"Topic4\", \"Topic4\", \"Topic4\", \"Topic4\", \"Topic4\", \"Topic4\", \"Topic4\", \"Topic4\", \"Topic4\", \"Topic4\", \"Topic4\", \"Topic4\", \"Topic4\", \"Topic4\", \"Topic4\", \"Topic4\", \"Topic4\", \"Topic4\", \"Topic4\", \"Topic4\", \"Topic4\", \"Topic4\", \"Topic4\", \"Topic4\", \"Topic4\", \"Topic4\", \"Topic4\", \"Topic4\", \"Topic4\", \"Topic4\", \"Topic4\", \"Topic4\", \"Topic4\", \"Topic4\", \"Topic4\", \"Topic4\", \"Topic4\", \"Topic4\", \"Topic4\", \"Topic4\", \"Topic4\", \"Topic4\", \"Topic4\", \"Topic4\", \"Topic4\", \"Topic4\", \"Topic4\", \"Topic4\", \"Topic4\", \"Topic4\", \"Topic4\", \"Topic4\", \"Topic4\", \"Topic4\", \"Topic5\", \"Topic5\", \"Topic5\", \"Topic5\", \"Topic5\", \"Topic5\", \"Topic5\", \"Topic5\", \"Topic5\", \"Topic5\", \"Topic5\", \"Topic5\", \"Topic5\", \"Topic5\", \"Topic5\", \"Topic5\", \"Topic5\", \"Topic5\", \"Topic5\", \"Topic5\", \"Topic5\", \"Topic5\", \"Topic5\", \"Topic5\", \"Topic5\", \"Topic5\", \"Topic5\", \"Topic5\", \"Topic5\", \"Topic5\", \"Topic5\", \"Topic5\", \"Topic5\", \"Topic5\", \"Topic5\", \"Topic5\", \"Topic5\", \"Topic5\", \"Topic5\", \"Topic5\", \"Topic5\", \"Topic5\", \"Topic5\", \"Topic5\", \"Topic5\", \"Topic5\", \"Topic5\", \"Topic5\", \"Topic5\", \"Topic5\", \"Topic5\", \"Topic5\", \"Topic5\", \"Topic5\"], \"Freq\": [4555.0, 3489.0, 1734.0, 19735.0, 7520.0, 2117.0, 1642.0, 5076.0, 7508.0, 2849.0, 11968.0, 10065.0, 1676.0, 10145.0, 2639.0, 2592.0, 1315.0, 2815.0, 2377.0, 1171.0, 1339.0, 1579.0, 741.0, 885.0, 1460.0, 4364.0, 630.0, 2197.0, 555.0, 551.0, 276.31799117360174, 745.9291050665722, 204.67812811436872, 246.9103037731847, 1599.7277937372855, 2564.3961395253946, 506.98573677862976, 1350.3073197170424, 257.277367278117, 1572.8320944778538, 4505.175889983349, 246.4149515670652, 306.49158441643743, 272.53866997767085, 577.075925956946, 433.2312893059501, 572.46703747215, 495.0788793762708, 177.70684517142413, 1368.8138228060993, 634.1800143471457, 581.965054488033, 208.0627644212228, 504.35251434982274, 288.2504934396906, 340.0684885897228, 178.0597711922788, 226.8328468887202, 200.53232100314804, 1408.7436520118422, 3571.7243600807346, 1132.2821930357534, 930.2951192080772, 1149.6709455448527, 2725.3741028085, 2434.139318053657, 1608.1298813911262, 1243.1842775651896, 1076.3058938392094, 3086.269978009695, 2446.582657711641, 2283.1374710022947, 2934.887268062895, 1352.9829809285513, 1853.9393685788386, 5842.437251233692, 1385.4437898081055, 1133.9755757096825, 1204.1083303798716, 1597.2683981307675, 1648.706428355658, 1222.6777912124287, 3930.290405088887, 4052.706665122761, 3089.517539073588, 7331.0106757225985, 2166.981501133183, 1732.6392630576272, 2442.463274057103, 3379.576046748071, 2392.8689373317934, 2037.965236108409, 2310.4246314563475, 2980.959987012689, 1920.8390828427268, 1723.2850015930287, 1935.5403187765946, 1774.3981826585634, 1849.5725735248914, 1781.2299224726828, 640.5325234255452, 255.64796962465738, 329.68203931470657, 364.0263840018776, 1956.1393300070024, 216.11275347489916, 1062.2310605073405, 475.7525551902619, 219.16459652420983, 412.6553942347182, 193.81245397987237, 254.1921787606255, 183.46157010865915, 341.3522808360754, 267.669585773997, 203.5602062220289, 244.04367733522255, 215.55380659459527, 239.77930653502054, 771.2621623987905, 134.8195112390233, 231.17122598458232, 342.3111356618157, 707.8762232153238, 173.52575322088566, 250.07722527852465, 188.63675673366959, 321.531551025042, 142.53339057191627, 158.217698387108, 301.8269729304091, 1050.1247000141261, 241.19834933108194, 424.0434889967646, 1140.8966401403097, 3907.014783823077, 1459.191504441497, 2984.3692788448534, 1826.1143269102786, 809.4441994090048, 820.4808029849903, 501.20138805796955, 1198.0872025372034, 518.8883185154285, 1017.5602345239124, 1236.8960664696037, 2269.7222571036828, 922.618026258265, 2059.5698954319823, 2961.154950722653, 1089.416387628169, 842.5317136823741, 549.0339633708317, 807.784638969397, 606.5137957280378, 1094.7668239417583, 1419.8552971228794, 912.7065127362139, 1159.921179531089, 818.1336266337735, 774.2981394957734, 703.0345656497087, 838.0472508309664, 730.5749144581116, 763.5443279585198, 762.5761513881067, 200.15567956952333, 387.8452602685499, 181.94145775421975, 609.0277104306068, 188.16271942565504, 340.19057832481974, 294.5945770863591, 165.73306004133653, 342.27688462958844, 188.92376871001417, 295.03878619362985, 311.18442740032737, 377.3901918691951, 413.491636824681, 284.4846893837176, 774.3887261979295, 142.19464113106812, 224.35370758989404, 975.3538314467501, 155.58424549064284, 198.444047043884, 317.697395047356, 277.81589846601565, 1009.4872186423094, 1692.1174136711434, 1825.335041191129, 154.5124386712517, 857.7503647909253, 146.54093976711562, 823.1209581791637, 593.8524476360279, 2557.6749955652804, 2742.0468306789417, 1206.3356054136834, 977.6824846833567, 1334.8236707022659, 382.6611849113849, 481.4506218641187, 2377.193974765397, 937.0060995841471, 2275.639961309721, 2170.9629359125734, 1437.7408713551351, 2962.3116281783145, 1393.751587397963, 549.3885420927089, 918.5163759955368, 953.8757940169078, 1122.805616171767, 720.1428992740881, 911.6852787006798, 1060.5758916064478, 1001.4815952217012, 1349.1408988610922, 736.9743047614763, 778.4645554998117, 1036.4548110477106, 939.2474949264011, 745.8618029228488, 610.8287818171599, 669.6805308705832, 315.9922917772722, 186.86599923413905, 688.4372607512195, 1386.01600170075, 487.956588497379, 201.32254926718696, 703.6698777844446, 192.2490907890987, 259.1643388423326, 290.20085105511845, 575.5862595318695, 158.9775241615727, 135.96333899718886, 140.53698707986484, 224.0826540277149, 395.8134136215451, 204.81192379229492, 161.78635989231967, 2077.276383444685, 244.44876162410634, 154.3883496611743, 122.09153173792515, 317.8913795056223, 123.17441492263256, 152.48249105257779, 152.5269399217519, 262.9382187542709, 373.7513435831671, 1273.85057128184, 233.27073940013105, 459.3136847353467, 2668.647718883136, 2536.388150925985, 1595.925219144682, 640.9453748552171, 527.1506875435956, 586.0626640051919, 1677.7312286527253, 2185.5637826786538, 1354.8478004493802, 511.1665198683128, 1564.894479445706, 2609.0187385778727, 793.9026419297622, 1434.7142984195455, 1426.3169701069212, 949.9443485262769, 685.5748178715367, 865.3732866044697, 786.1890347119921, 615.0842628993729, 607.9243848270086, 619.7421299840057, 720.9797197553958, 615.0235634893143, 602.8824131250543, 589.5990080101294, 550.9049399360354, 554.5969371575292, 428.83908653494075, 386.25797524781194, 319.07443426486265, 289.739920766096, 284.06302539619935, 245.26717469660568, 217.8260068880708, 213.09476930711963, 207.4170277790875, 197.00858848499695, 598.8727525708623, 1617.6613974180605, 178.5336887484957, 191.38215781227674, 639.5871168980559, 212.06964244557025, 165.73701392540065, 159.24677135222348, 542.3858155412811, 666.4415528021725, 386.526630542774, 487.7771097885776, 1180.0692400009907, 224.1973998354269, 402.61295797289387, 433.67663761308114, 423.9985707591589, 445.30792250518, 436.7420553212704, 798.0373775671092, 773.0874273625645, 777.711724644314, 1505.852167560703, 3872.2023531846785, 855.9983025795298, 621.7172007891464, 687.8033452653007, 1499.8089858865771, 1545.4127942339683, 1362.9649295989298, 1218.553249764553, 1165.7512361242887, 561.7041718053599, 857.8237318964774, 703.9460610923844, 584.5067130285935, 650.4815224028588, 675.8917791268792, 662.6032666194284, 619.0115454937667, 627.7282477493242, 554.5269188465462], \"Term\": [\"chicken\", \"pizza\", \"rice\", \"food\", \"order\", \"burger\", \"sushi\", \"minutes\", \"ordered\", \"sauce\", \"place\", \"like\", \"sandwich\", \"good\", \"salad\", \"cheese\", \"fried\", \"manager\", \"taste\", \"buffet\", \"beef\", \"soup\", \"rolls\", \"pork\", \"dish\", \"table\", \"chinese\", \"tasted\", \"die\", \"und\", \"ignored\", \"hostess\", \"unprofessional\", \"host\", \"waited\", \"manager\", \"reservation\", \"seated\", \"situation\", \"waiting\", \"minutes\", \"treated\", \"standing\", \"reservations\", \"mins\", \"seat\", \"45\", \"min\", \"proceeded\", \"rude\", \"bartender\", \"management\", \"apology\", \"attitude\", \"greeted\", \"speak\", \"watched\", \"explained\", \"refused\", \"finally\", \"table\", \"walked\", \"party\", \"sat\", \"told\", \"wait\", \"customer\", \"15\", \"customers\", \"asked\", \"took\", \"server\", \"said\", \"hour\", \"waitress\", \"service\", \"ask\", \"30\", \"tables\", \"10\", \"drinks\", \"20\", \"order\", \"time\", \"came\", \"food\", \"people\", \"bar\", \"restaurant\", \"just\", \"didn\", \"did\", \"got\", \"place\", \"went\", \"come\", \"like\", \"don\", \"good\", \"ordered\", \"burgers\", \"prime\", \"rib\", \"ramen\", \"burger\", \"casino\", \"buffet\", \"pho\", \"groupon\", \"selection\", \"limited\", \"la\", \"desserts\", \"music\", \"bun\", \"bathroom\", \"las\", \"choices\", \"parking\", \"beer\", \"sum\", \"beers\", \"hotel\", \"vegas\", \"station\", \"strip\", \"club\", \"cool\", \"wall\", \"joint\", \"loud\", \"fries\", \"brunch\", \"wine\", \"pretty\", \"place\", \"better\", \"good\", \"really\", \"best\", \"price\", \"prices\", \"menu\", \"room\", \"bar\", \"ve\", \"just\", \"nice\", \"like\", \"food\", \"great\", \"try\", \"places\", \"think\", \"lot\", \"don\", \"service\", \"went\", \"time\", \"eat\", \"wasn\", \"night\", \"didn\", \"way\", \"restaurant\", \"got\", \"calamari\", \"garlic\", \"spinach\", \"pasta\", \"pie\", \"crust\", \"raw\", \"steaks\", \"italian\", \"indian\", \"rare\", \"dressing\", \"salt\", \"medium\", \"oil\", \"shrimp\", \"lamb\", \"crispy\", \"dish\", \"mushrooms\", \"pepper\", \"potato\", \"butter\", \"steak\", \"salad\", \"sauce\", \"baked\", \"bread\", \"seasoned\", \"cooked\", \"wings\", \"chicken\", \"ordered\", \"meal\", \"tasted\", \"pizza\", \"red\", \"sweet\", \"good\", \"cheese\", \"just\", \"like\", \"restaurant\", \"food\", \"came\", \"plate\", \"wasn\", \"great\", \"really\", \"taste\", \"bad\", \"got\", \"didn\", \"place\", \"nice\", \"server\", \"service\", \"time\", \"did\", \"delivery\", \"taco\", \"dog\", \"bell\", \"tacos\", \"sandwich\", \"salsa\", \"turkey\", \"chips\", \"nachos\", \"online\", \"bag\", \"drive\", \"deliver\", \"guacamole\", \"avocado\", \"toast\", \"store\", \"window\", \"pizzas\", \"pizza\", \"sandwiches\", \"refund\", \"margarita\", \"lettuce\", \"mcdonald\", \"receipt\", \"slice\", \"french\", \"mexican\", \"cheese\", \"box\", \"extra\", \"order\", \"like\", \"don\", \"money\", \"home\", \"hot\", \"ordered\", \"place\", \"got\", \"called\", \"time\", \"food\", \"know\", \"good\", \"just\", \"didn\", \"make\", \"really\", \"said\", \"want\", \"salad\", \"eat\", \"service\", \"asked\", \"people\", \"ve\", \"und\", \"die\", \"das\", \"der\", \"nicht\", \"war\", \"ich\", \"wir\", \"ist\", \"zu\", \"es\", \"auch\", \"chinese\", \"rice\", \"tofu\", \"spring\", \"rolls\", \"noodle\", \"chipotle\", \"brisket\", \"roll\", \"pork\", \"beans\", \"burrito\", \"sushi\", \"authentic\", \"bbq\", \"thai\", \"egg\", \"eggs\", \"noodles\", \"fried\", \"beef\", \"soup\", \"chicken\", \"food\", \"taste\", \"bland\", \"quality\", \"good\", \"place\", \"like\", \"service\", \"just\", \"flavor\", \"ordered\", \"better\", \"meat\", \"ve\", \"restaurant\", \"really\", \"bad\", \"don\", \"sauce\"], \"Total\": [4555.0, 3489.0, 1734.0, 19735.0, 7520.0, 2117.0, 1642.0, 5076.0, 7508.0, 2849.0, 11968.0, 10065.0, 1676.0, 10145.0, 2639.0, 2592.0, 1315.0, 2815.0, 2377.0, 1171.0, 1339.0, 1579.0, 741.0, 885.0, 1460.0, 4364.0, 630.0, 2197.0, 555.0, 551.0, 289.8811601650371, 792.0470461596177, 218.24399399486367, 266.53218309777895, 1752.4922557037985, 2815.2866201296797, 563.7186760508897, 1506.736210813053, 288.38483506712214, 1765.755318873561, 5076.136367447993, 280.8874731204766, 351.99746155441215, 313.0118553894345, 664.4563007873209, 502.3404293810887, 666.8520747621401, 578.4634201636547, 207.89285768827074, 1601.650203630317, 745.0236249263567, 685.2820021383073, 246.2709561781876, 597.4475821206136, 342.06738279458983, 405.6417462281431, 213.26426595637315, 272.80313145117583, 242.7427970153864, 1705.816173694382, 4364.643436277228, 1379.7375214062454, 1131.719442454577, 1414.1204331645872, 3447.7726906139014, 3083.4989363182453, 2017.3548619797248, 1619.4964754283878, 1388.1262922130095, 4425.189483762956, 3526.2948558364137, 3285.826201490893, 4465.961476585604, 1863.8393489030564, 2692.661045466124, 10238.280328924231, 1921.4642144617246, 1523.7576171580906, 1639.1945512927834, 2319.2262396728393, 2430.68205598569, 1681.79696883061, 7520.686181516434, 8123.6256146062815, 5836.132723284959, 19735.698346386118, 3883.45166187512, 2997.6644804286657, 5618.484931883511, 10517.006471392684, 5536.091496354219, 4156.659568897602, 5854.212726047989, 11968.092246609482, 4116.843477179738, 3424.27921722888, 10065.426230646064, 5735.650436126576, 10145.659111441264, 7508.404958625016, 661.662238371094, 268.31205343757495, 346.4660510887965, 383.8382065509074, 2117.479715853072, 237.49020936153374, 1171.5671861489145, 579.9841349510369, 274.21545751865807, 520.1862887464326, 246.89909176767262, 337.55017170553793, 251.4141716797478, 500.34449355406525, 402.3440193487957, 313.8297983975462, 376.9428765683303, 339.84542842679343, 391.83838038494616, 1260.6331736624304, 220.5279601497555, 378.7941992119083, 564.2645353978418, 1170.3604294039742, 288.23114171440255, 417.91169274038145, 317.4865204760797, 544.0640847305474, 245.26169713500707, 277.02722159390225, 535.2938750087263, 1954.4620092311986, 428.0320979328397, 824.1476452965887, 2636.3091926868333, 11968.092246609482, 4019.423375836625, 10145.659111441264, 5574.570125553534, 1927.19966372327, 1988.3362475761792, 1051.288801242545, 3428.3869869731166, 1109.5966558232333, 2997.6644804286657, 4049.952075813787, 10517.006471392684, 2664.9885407576726, 10065.426230646064, 19735.698346386118, 3817.866443705812, 2568.6669668859276, 1233.5754705429138, 2578.515581746967, 1502.7116373104018, 5735.650436126576, 10238.280328924231, 4116.843477179738, 8123.6256146062815, 3464.9864851305347, 3110.6782995475837, 2522.1734601366784, 5536.091496354219, 3231.4242284870775, 5618.484931883511, 5854.212726047989, 211.53460598836716, 441.1380049710488, 219.18637790715988, 735.4686572621166, 234.44490906771466, 437.70257074293215, 382.443048630327, 215.6845537490968, 455.1480471807883, 254.66625138533303, 403.0225451844591, 425.74170513426094, 527.080322857442, 579.0425581807552, 402.48557403696026, 1119.1826092025408, 207.92022383994475, 328.1784105049526, 1460.24142859523, 233.0929321374194, 297.31137099649055, 478.1634477681486, 422.93416860952254, 1566.7578475107482, 2639.765576900708, 2849.8239787590937, 253.04127550496128, 1415.0460886533895, 243.80657589183232, 1374.2325162456684, 999.054649193794, 4555.518050360248, 7508.404958625016, 2769.2956621315047, 2197.6032594595954, 3489.400139521832, 690.5070543674408, 983.2396313466013, 10145.659111441264, 2592.649573971371, 10517.006471392684, 10065.426230646064, 5618.484931883511, 19735.698346386118, 5836.132723284959, 1229.1196559793543, 3110.6782995475837, 3817.866443705812, 5574.570125553534, 2377.740014976093, 4099.853856991363, 5854.212726047989, 5536.091496354219, 11968.092246609482, 2664.9885407576726, 3285.826201490893, 10238.280328924231, 8123.6256146062815, 4156.659568897602, 642.8676996910274, 719.3155398349052, 351.43406185868633, 207.93134617176426, 826.4970757505774, 1676.7434564290527, 604.8115322006206, 250.28540274979375, 925.195173474116, 265.6411742719039, 365.36671670554966, 422.89665139920066, 840.2892942870369, 232.76863540863673, 209.47904470074565, 217.9345288151629, 365.2268567982101, 648.6294660204585, 338.2016948108614, 270.8538578049219, 3489.400139521832, 426.80794879412736, 269.5776439589466, 214.2009525443018, 576.502380885489, 223.4996451258401, 280.0721053269252, 281.70440229901817, 496.27109343053564, 710.668443480587, 2592.649573971371, 446.0687599266395, 969.390624375523, 7520.686181516434, 10065.426230646064, 5735.650436126576, 1794.9861267142028, 1375.4579353272145, 1630.5436518959868, 7508.404958625016, 11968.092246609482, 5854.212726047989, 1369.2595539586437, 8123.6256146062815, 19735.698346386118, 3299.6978653184656, 10145.659111441264, 10517.006471392684, 5536.091496354219, 2819.529905744016, 5574.570125553534, 4465.961476585604, 2678.082257516505, 2639.765576900708, 3464.9864851305347, 10238.280328924231, 4425.189483762956, 3883.45166187512, 4049.952075813787, 551.7155915173078, 555.5127345060286, 429.64973468089863, 387.0686220638807, 319.8850892912925, 290.5514819645093, 284.87396584329855, 246.07782653952157, 218.6366654906437, 213.90543179611058, 208.22796845531477, 197.81923178600948, 630.9633615427148, 1734.315534670521, 198.54504480565336, 213.0724304738652, 741.5319666709178, 249.71321490090725, 202.26201855365898, 210.07495011864594, 720.4546288787491, 885.6202805866752, 515.3840782182292, 657.3259693944851, 1642.0465028587892, 316.64495101279374, 572.5851462390658, 626.5775541714021, 612.999072074094, 651.0857474481813, 640.0670857938272, 1315.7768949987435, 1339.9085232380912, 1579.938638082629, 4555.518050360248, 19735.698346386118, 2377.740014976093, 1446.9771020067253, 1984.724312611199, 10145.659111441264, 11968.092246609482, 10065.426230646064, 10238.280328924231, 10517.006471392684, 1650.2113427975962, 7508.404958625016, 4019.423375836625, 2048.16385659076, 4049.952075813787, 5618.484931883511, 5574.570125553534, 4099.853856991363, 5735.650436126576, 2849.8239787590937], \"loglift\": [30.0, 29.0, 28.0, 27.0, 26.0, 25.0, 24.0, 23.0, 22.0, 21.0, 20.0, 19.0, 18.0, 17.0, 16.0, 15.0, 14.0, 13.0, 12.0, 11.0, 10.0, 9.0, 8.0, 7.0, 6.0, 5.0, 4.0, 3.0, 2.0, 1.0, 0.991, 0.979, 0.9748, 0.9625, 0.9478, 0.9456, 0.9329, 0.9293, 0.9248, 0.9233, 0.9196, 0.908, 0.9005, 0.9005, 0.898, 0.891, 0.8863, 0.8833, 0.8821, 0.8819, 0.8779, 0.8755, 0.8704, 0.8696, 0.8678, 0.8626, 0.8585, 0.8544, 0.8479, 0.8476, 0.8385, 0.8413, 0.843, 0.8319, 0.8038, 0.8025, 0.8122, 0.7745, 0.7845, 0.6786, 0.6734, 0.6749, 0.6191, 0.7186, 0.6657, 0.478, 0.7119, 0.7435, 0.7305, 0.666, 0.6508, 0.7201, 0.39, 0.3436, 0.4029, 0.0486, 0.4556, 0.4908, 0.2059, -0.0963, 0.2002, 0.3262, 0.1092, -0.351, 0.2766, 0.3523, -0.6098, -0.1343, -0.6631, -0.3998, 1.6085, 1.5926, 1.5913, 1.5879, 1.5617, 1.5466, 1.543, 1.4428, 1.4168, 1.4094, 1.3988, 1.3573, 1.3258, 1.2585, 1.2334, 1.208, 1.2062, 1.1856, 1.1498, 1.1496, 1.1488, 1.1471, 1.1411, 1.1381, 1.1335, 1.1274, 1.1203, 1.115, 1.0982, 1.0808, 1.068, 1.0197, 1.0673, 0.9764, 0.8034, 0.5215, 0.6277, 0.4173, 0.5249, 0.7735, 0.7558, 0.9002, 0.5896, 0.8809, 0.5605, 0.4548, 0.1076, 0.5802, 0.0543, -0.2559, 0.3869, 0.5262, 0.8314, 0.4803, 0.7336, -0.0152, -0.3347, 0.1345, -0.3055, 0.1975, 0.2503, 0.3635, -0.247, 0.1541, -0.3549, -0.3973, 1.6547, 1.5813, 1.5238, 1.5214, 1.4901, 1.458, 1.449, 1.4466, 1.425, 1.4114, 1.3981, 1.3966, 1.3759, 1.3733, 1.363, 1.3417, 1.3301, 1.3297, 1.3065, 1.3058, 1.3057, 1.3012, 1.2898, 1.2704, 1.2653, 1.2645, 1.2167, 1.2094, 1.2009, 1.1975, 1.1898, 1.1328, 0.7027, 0.879, 0.9001, 0.7491, 1.1197, 0.996, 0.2589, 0.6923, 0.1793, 0.1761, 0.347, -0.1864, 0.2779, 0.9048, 0.4902, 0.3231, 0.1076, 0.5156, 0.2066, 0.0017, 0.0002, -0.4728, 0.4246, 0.27, -0.5803, -0.4474, -0.0079, 1.818, 1.7977, 1.7629, 1.7623, 1.6864, 1.6787, 1.6545, 1.6515, 1.5955, 1.5458, 1.5257, 1.4926, 1.4908, 1.4879, 1.4369, 1.4304, 1.3807, 1.3752, 1.3676, 1.3539, 1.3505, 1.3118, 1.3118, 1.307, 1.2739, 1.2734, 1.2612, 1.2556, 1.234, 1.2265, 1.1585, 1.2209, 1.1222, 0.8331, 0.4908, 0.5899, 0.8394, 0.9101, 0.8459, 0.3706, 0.1688, 0.4057, 0.8838, 0.2222, -0.1543, 0.4445, -0.0869, -0.1287, 0.1065, 0.4551, 0.0064, 0.1321, 0.3981, 0.4008, 0.148, -0.7841, -0.1042, 0.0064, -0.0579, 2.1419, 2.1417, 2.1415, 2.1413, 2.1408, 2.1406, 2.1405, 2.1401, 2.1396, 2.1396, 2.1395, 2.1392, 2.0912, 2.0737, 2.0371, 2.036, 1.9955, 1.98, 1.9442, 1.8663, 1.8595, 1.859, 1.8556, 1.845, 1.813, 1.7981, 1.7912, 1.7754, 1.7747, 1.7635, 1.7611, 1.6433, 1.5934, 1.4346, 1.0364, 0.5147, 1.1217, 1.2986, 1.0836, 0.2316, 0.0964, 0.1439, 0.0149, -0.0563, 1.0657, -0.026, 0.4012, 0.8894, 0.3146, 0.0256, 0.0136, 0.2528, -0.069, 0.5065], \"logprob\": [30.0, 29.0, 28.0, 27.0, 26.0, 25.0, 24.0, 23.0, 22.0, 21.0, 20.0, 19.0, 18.0, 17.0, 16.0, 15.0, 14.0, 13.0, 12.0, 11.0, 10.0, 9.0, 8.0, 7.0, 6.0, 5.0, 4.0, 3.0, 2.0, 1.0, -6.9905, -5.9974, -7.2906, -7.103, -5.2344, -4.7625, -6.3835, -5.4039, -7.0619, -5.2514, -4.199, -7.105, -6.8868, -7.0042, -6.254, -6.5407, -6.2621, -6.4073, -7.4319, -5.3903, -6.1597, -6.2456, -7.2742, -6.3887, -6.9482, -6.7829, -7.4299, -7.1878, -7.311, -5.3616, -4.4312, -5.58, -5.7765, -5.5648, -4.7017, -4.8147, -5.2292, -5.4866, -5.6307, -4.5773, -4.8096, -4.8787, -4.6276, -5.402, -5.087, -3.9391, -5.3782, -5.5785, -5.5185, -5.236, -5.2043, -5.5032, -4.3356, -4.3049, -4.5763, -3.7122, -4.9309, -5.1546, -4.8113, -4.4865, -4.8318, -4.9923, -4.8668, -4.612, -5.0515, -5.16, -5.0439, -5.1308, -5.0893, -5.127, -5.5478, -6.4663, -6.2119, -6.1128, -4.4313, -6.6343, -5.0419, -5.8452, -6.6202, -5.9874, -6.7432, -6.472, -6.798, -6.1771, -6.4203, -6.6941, -6.5127, -6.6368, -6.5303, -5.362, -7.1061, -6.5669, -6.1743, -5.4478, -6.8537, -6.4883, -6.7702, -6.237, -7.0505, -6.9461, -6.3002, -5.0534, -6.5244, -5.9602, -4.9705, -3.7395, -4.7244, -4.0089, -4.5001, -5.3137, -5.3002, -5.793, -4.9216, -5.7584, -5.0849, -4.8897, -4.2826, -5.1828, -4.3798, -4.0167, -5.0167, -5.2736, -5.7019, -5.3158, -5.6023, -5.0118, -4.7517, -5.1936, -4.9539, -5.303, -5.3581, -5.4546, -5.279, -5.4162, -5.3721, -5.3734, -6.6419, -5.9804, -6.7373, -5.5291, -6.7037, -6.1115, -6.2554, -6.8306, -6.1053, -6.6996, -6.2539, -6.2006, -6.0077, -5.9163, -6.2903, -5.2889, -6.9838, -6.5277, -5.0582, -6.8938, -6.6505, -6.1799, -6.314, -5.0238, -4.5072, -4.4315, -6.9007, -5.1867, -6.9537, -5.2279, -5.5543, -4.0941, -4.0245, -4.8456, -5.0558, -4.7444, -5.9938, -5.7642, -4.1673, -5.0983, -4.211, -4.258, -4.6701, -3.9472, -4.7012, -5.6322, -5.1182, -5.0804, -4.9174, -5.3615, -5.1257, -4.9744, -5.0317, -4.7337, -5.3384, -5.2836, -4.9974, -5.0959, -5.3264, -5.367, -5.275, -6.0261, -6.5514, -5.2474, -4.5476, -5.5916, -6.4769, -5.2255, -6.523, -6.2244, -6.1112, -5.4264, -6.7131, -6.8694, -6.8364, -6.3698, -5.8009, -6.4597, -6.6955, -4.143, -6.2828, -6.7424, -6.9771, -6.0201, -6.9682, -6.7548, -6.7545, -6.2099, -5.8582, -4.632, -6.3296, -5.6521, -3.8925, -3.9433, -4.4066, -5.3189, -5.5143, -5.4084, -4.3566, -4.0922, -4.5704, -5.5451, -4.4262, -3.9151, -5.1049, -4.5131, -4.519, -4.9254, -5.2516, -5.0187, -5.1146, -5.3601, -5.3718, -5.3525, -5.2012, -5.3602, -5.3801, -5.4024, -5.1961, -5.1894, -5.4465, -5.5511, -5.7422, -5.8386, -5.8584, -6.0053, -6.1239, -6.1459, -6.1729, -6.2244, -5.1126, -4.1189, -6.3228, -6.2534, -5.0468, -6.1507, -6.3972, -6.4372, -5.2116, -5.0057, -5.5504, -5.3178, -4.4343, -6.0951, -5.5097, -5.4353, -5.4579, -5.4089, -5.4283, -4.8255, -4.8572, -4.8513, -4.1905, -3.246, -4.7554, -5.0751, -4.9741, -4.1945, -4.1646, -4.2902, -4.4022, -4.4465, -5.1767, -4.7532, -4.9509, -5.1369, -5.0299, -4.9916, -5.0114, -5.0795, -5.0655, -5.1895]}, \"token.table\": {\"Topic\": [1, 2, 3, 4, 5, 1, 2, 3, 4, 5, 1, 2, 3, 4, 5, 1, 2, 3, 4, 5, 1, 2, 3, 4, 5, 1, 2, 3, 4, 1, 2, 3, 4, 5, 1, 2, 3, 4, 5, 1, 2, 3, 4, 5, 5, 1, 2, 3, 4, 5, 1, 2, 3, 4, 5, 1, 2, 3, 4, 5, 1, 2, 3, 4, 5, 1, 2, 3, 4, 5, 1, 2, 3, 4, 5, 1, 2, 3, 4, 5, 1, 2, 3, 4, 5, 1, 2, 3, 4, 5, 1, 2, 3, 4, 5, 1, 2, 3, 4, 5, 1, 2, 3, 4, 5, 1, 2, 3, 4, 5, 1, 3, 4, 5, 1, 2, 3, 4, 5, 1, 2, 3, 4, 5, 1, 2, 3, 4, 5, 1, 2, 3, 4, 5, 1, 2, 3, 4, 5, 1, 2, 3, 4, 5, 1, 2, 3, 4, 5, 1, 2, 3, 4, 5, 1, 2, 3, 4, 5, 1, 2, 3, 4, 5, 1, 2, 3, 4, 1, 2, 4, 5, 1, 2, 3, 4, 5, 1, 2, 3, 4, 5, 1, 2, 3, 4, 5, 1, 2, 3, 4, 5, 1, 2, 3, 4, 5, 1, 2, 3, 4, 5, 1, 2, 3, 4, 5, 1, 2, 3, 4, 5, 1, 2, 3, 4, 5, 1, 2, 3, 4, 5, 1, 2, 3, 4, 5, 1, 2, 3, 4, 1, 2, 3, 4, 5, 1, 2, 3, 4, 5, 1, 2, 3, 4, 5, 1, 2, 3, 4, 5, 3, 4, 1, 2, 3, 4, 5, 1, 2, 3, 4, 5, 5, 1, 2, 3, 4, 5, 1, 3, 4, 5, 5, 1, 2, 3, 4, 5, 1, 2, 3, 4, 5, 1, 2, 3, 4, 5, 5, 1, 2, 3, 4, 5, 1, 2, 3, 4, 5, 1, 2, 3, 4, 5, 1, 2, 3, 4, 5, 1, 2, 3, 4, 5, 1, 2, 3, 4, 5, 1, 2, 3, 4, 5, 1, 2, 3, 4, 5, 1, 2, 3, 4, 5, 5, 1, 2, 3, 4, 5, 1, 2, 3, 4, 5, 1, 2, 3, 4, 5, 1, 2, 3, 4, 5, 1, 2, 3, 4, 5, 1, 2, 3, 4, 5, 1, 2, 3, 4, 5, 1, 2, 3, 4, 5, 1, 2, 3, 4, 5, 1, 2, 3, 4, 5, 1, 2, 3, 4, 5, 1, 2, 3, 4, 5, 1, 2, 3, 4, 5, 1, 2, 3, 4, 5, 1, 2, 3, 4, 5, 1, 2, 3, 4, 5, 1, 2, 3, 4, 5, 1, 2, 3, 4, 5, 1, 2, 3, 4, 5, 1, 2, 3, 4, 5, 1, 2, 3, 4, 5, 5, 1, 2, 3, 4, 5, 1, 2, 3, 5, 5, 1, 2, 3, 4, 5, 1, 2, 3, 4, 5, 1, 2, 3, 4, 5, 1, 2, 3, 4, 5, 1, 2, 3, 4, 5, 1, 2, 3, 4, 5, 1, 2, 3, 4, 5, 1, 2, 3, 4, 5, 1, 2, 3, 4, 5, 1, 2, 3, 4, 5, 1, 2, 3, 4, 5, 1, 2, 3, 4, 5, 1, 2, 3, 4, 5, 1, 2, 3, 4, 5, 1, 2, 3, 4, 5, 1, 2, 3, 4, 5, 1, 2, 3, 4, 5, 1, 2, 3, 4, 5, 1, 2, 3, 4, 5, 1, 2, 3, 4, 5, 1, 2, 3, 4, 5, 1, 2, 3, 4, 5, 1, 2, 3, 4, 5, 1, 2, 3, 4, 5, 1, 2, 3, 4, 5, 1, 2, 3, 4, 5, 1, 2, 3, 4, 5, 1, 2, 3, 4, 5, 1, 2, 3, 4, 1, 2, 3, 4, 5, 5, 1, 2, 3, 4, 5, 2, 3, 4, 5, 1, 2, 3, 4, 5, 1, 2, 3, 4, 5, 1, 2, 3, 4, 5, 1, 2, 3, 4, 5, 1, 2, 3, 4, 5, 1, 2, 3, 4, 5, 1, 2, 3, 4, 5, 1, 2, 3, 4, 5, 1, 2, 3, 4, 5, 1, 2, 3, 4, 5, 1, 2, 3, 4, 5, 1, 2, 3, 4, 5, 1, 2, 3, 4, 5, 1, 2, 3, 4, 1, 2, 3, 4, 5, 1, 2, 3, 4, 5, 1, 2, 3, 4, 5, 1, 2, 3, 4, 5, 1, 2, 3, 4, 5, 1, 2, 3, 4, 5, 1, 2, 3, 4, 5, 1, 2, 3, 4, 5, 1, 2, 3, 4, 5, 1, 2, 3, 4, 5, 1, 2, 3, 4, 5, 1, 2, 3, 5, 1, 2, 3, 1, 2, 3, 4, 5, 1, 2, 3, 4, 5, 1, 2, 3, 4, 5, 1, 2, 3, 4, 5, 1, 3, 4, 5, 1, 2, 3, 4, 5, 1, 2, 3, 4, 5, 1, 2, 3, 4, 1, 2, 3, 4, 5, 1, 2, 3, 4, 5, 1, 2, 3, 4, 5, 1, 2, 3, 4, 5, 1, 2, 3, 4, 5, 1, 2, 3, 4, 5, 1, 2, 3, 4, 5, 1, 2, 3, 4, 5, 1, 2, 3, 4, 5, 1, 2, 3, 4, 5, 1, 2, 3, 4, 5, 1, 2, 3, 4, 5, 1, 2, 3, 4, 5, 1, 2, 3, 4, 5, 1, 2, 3, 4, 5, 1, 2, 3, 4, 5, 1, 2, 3, 4, 5, 1, 2, 3, 4, 5, 1, 2, 3, 4, 5, 1, 2, 3, 4, 5, 1, 2, 3, 4, 5, 1, 2, 3, 4, 5, 1, 2, 3, 4, 5, 1, 2, 3, 4, 5, 1, 2, 3, 4, 5, 1, 2, 3, 4, 5, 1, 2, 3, 4, 5, 1, 2, 3, 4, 5, 1, 2, 3, 4, 1, 2, 3, 4, 5, 1, 2, 3, 4, 5, 1, 2, 3, 5, 1, 2, 3, 4, 5, 1, 2, 3, 4, 5, 1, 2, 3, 5, 1, 2, 3, 4, 5, 1, 2, 3, 4, 5, 1, 2, 3, 4, 5, 1, 2, 3, 4, 5, 1, 2, 3, 4, 5, 1, 2, 3, 4, 5, 1, 2, 3, 4, 5, 1, 2, 3, 4, 5, 1, 3, 4, 5, 1, 2, 3, 4, 5, 1, 2, 3, 4, 5, 1, 2, 3, 4, 5, 1, 2, 3, 4, 5, 1, 2, 3, 4, 5, 1, 2, 3, 4, 5, 1, 2, 3, 4, 1, 2, 3, 4, 5, 1, 2, 3, 4, 5, 5, 1, 2, 3, 4, 5, 1, 2, 3, 4, 5, 1, 2, 3, 4, 5, 1, 2, 3, 4, 5, 1, 2, 3, 4, 5, 1, 2, 3, 4, 5, 1, 2, 3, 4, 5, 1, 2, 3, 4, 5, 1, 2, 3, 4, 5, 1, 2, 3, 4, 5, 5, 1, 2, 3, 4, 5, 1, 2, 3, 4, 5, 1, 2, 3, 4, 5, 1, 2, 3, 4, 5, 1, 2, 3, 4, 5, 1, 2, 3, 1, 2, 3, 4, 5, 5, 5], \"Freq\": [0.6885917262756048, 0.0776120918782773, 0.09054744052465687, 0.09270333196572013, 0.050447859720880256, 0.7675225101500778, 0.07286215301505163, 0.0407534076185882, 0.07594953238009619, 0.04322331111062385, 0.7271983614350183, 0.05886560734429011, 0.06837924085447841, 0.10405536651768453, 0.041622146607073814, 0.7442128506730522, 0.0656272355090875, 0.0656272355090875, 0.08859676793726812, 0.03543870717490725, 0.8577614461258549, 0.0014995829477724735, 0.019494578321042157, 0.09147455981412089, 0.026992493059904525, 0.8445981744168934, 0.0040605681462350645, 0.03654511331611558, 0.11369590809458181, 0.7208044727431946, 0.027583131447934523, 0.12178212752484299, 0.10616903425242721, 0.02394007635103751, 0.6973712676763895, 0.036834580891526726, 0.10846993145971061, 0.1389770996827542, 0.018304300933826165, 0.8435886512605415, 0.03347574012938657, 0.018411657071162612, 0.09540585936875172, 0.008368935032346642, 0.995858684827491, 0.009474333920071847, 0.06316222613381231, 0.14527312010776833, 0.07263656005388416, 0.7074169326986979, 0.022942670109153088, 0.013765602065491852, 0.059650942283798025, 0.6469832970781171, 0.25695790522251455, 0.3251335404862965, 0.16342045920916629, 0.22244695343098456, 0.1380537013617733, 0.1509809914186178, 0.08276253757081926, 0.08985646936260376, 0.06148074219546574, 0.6857467398725025, 0.08039789364022443, 0.015807697744242417, 0.12646158195393933, 0.6125482875893936, 0.15017312857030296, 0.0948461864654545, 0.5781167343158369, 0.33959771236787184, 0.06004674678410308, 0.013343721507578461, 0.009007012017615461, 0.8509797257270452, 0.11140586314723147, 0.029529264930591475, 0.006711196575134426, 0.0013422393150268853, 0.2899660913802872, 0.6500338751821824, 0.044610167904659576, 0.012745762258474165, 0.003186440564618541, 0.02095758173054276, 0.11701316466219708, 0.14146367668116364, 0.017464651442118968, 0.7038254531173943, 0.0038806010595328084, 0.00970150264883202, 0.03880601059532808, 0.19791065403617322, 0.7508963050195984, 0.008209515656648588, 0.13583016813727666, 0.21270108746771346, 0.06642244485833859, 0.5769050547808509, 0.28636403320341924, 0.6115974227142278, 0.0840847299710871, 0.015071791221232592, 0.0023797565086156724, 0.34847418538781644, 0.6098298244286788, 0.03695938329870781, 0.0026399559499077005, 0.0026399559499077005, 0.009618559379439959, 0.0048092796897199796, 0.8993353019776361, 0.08656703441495962, 0.12297636018788308, 0.41978006494513675, 0.1940639608028197, 0.1022208563587045, 0.16137404227186344, 0.14181138603776894, 0.36298738987562257, 0.17713983659454646, 0.14305534556441601, 0.1751495013519111, 0.00760205533642845, 0.13614590011603678, 0.3400192023202543, 0.08638699245941421, 0.4298616744780451, 0.19055358194996463, 0.04707794377587362, 0.10312311493762792, 0.5223409952275502, 0.1367502176346805, 0.07208245782090886, 0.041694755014055125, 0.6063406746111745, 0.2749027067875838, 0.004240144577700521, 0.004760205819090858, 0.07616329310545372, 0.11424493965818057, 0.05236226400999943, 0.7568727252354464, 0.21026460500193944, 0.5630418867274156, 0.07008820166731315, 0.011681366944552192, 0.14484895011244717, 0.009389132889730681, 0.9064781026267257, 0.005121345212580371, 0.0017071150708601237, 0.07682017818870557, 0.004970870458661352, 0.6660966414606212, 0.10190284440255772, 0.18143677174113934, 0.04722326935728284, 0.018890381664829856, 0.9237396634101799, 0.04250335874586717, 0.014167786248622392, 0.0004722595416207464, 0.019647486657246617, 0.9687722267150063, 0.007556725637402545, 0.003022690254961018, 0.0015213152173512619, 0.0015213152173512619, 0.255580956515012, 0.7424018260674158, 0.030737644212431456, 0.09694180097766844, 0.6573126993119958, 0.12531501101991285, 0.08984849846710734, 0.018909435556941308, 0.023636794446176636, 0.9454717778470655, 0.004727358889235327, 0.009454717778470654, 0.5594264416745752, 0.021909651762711823, 0.03140383419322028, 0.3731944016915247, 0.014606434508474549, 0.5294602001889952, 0.09475452773608878, 0.23885680228590916, 0.06990930798611976, 0.067167766496468, 0.04631769886250169, 0.9095111776636696, 0.02947489927613744, 0.008421399793182125, 0.008421399793182125, 0.008871233594738775, 0.11609744834853788, 0.36140634253348836, 0.4913891999868348, 0.02237093689108039, 0.008341532089197842, 0.015146466161964503, 0.5615168180044232, 0.08451289090371499, 0.3305880875350513, 0.006339512313710167, 0.023773171176413123, 0.015848780784275415, 0.004754634235282625, 0.9493419689780974, 0.09393755751013336, 0.004944081974217545, 0.014832245922652636, 0.06921714763904563, 0.8207176077201125, 0.03891070882354442, 0.06593203439545027, 0.05512350416668793, 0.7609205281048688, 0.07998312369284132, 0.09710296870186846, 0.6355830678667753, 0.07356285507717307, 0.07944788348334691, 0.11770056812347691, 0.3370221823576969, 0.59530086416453, 0.03464714024238005, 0.03464714024238005, 0.5031715846450012, 0.15652929156687212, 0.12148542032055747, 0.12878622683020635, 0.08994593619887428, 0.04075001816504028, 0.13898666909861954, 0.5988797312469313, 0.0392946603734317, 0.18191972395107267, 0.18563989580385765, 0.5918420440479423, 0.11028112622011346, 0.08822490097609077, 0.02573226278469314, 0.0030471230525534795, 0.036565476630641754, 0.6825555637719795, 0.11274355294447874, 0.1645446448378879, 0.7767831918896496, 0.22161167533322357, 0.7970833641147271, 0.01933224577143928, 0.011896766628578016, 0.15267517173341788, 0.01883654716191519, 0.7751456088945592, 0.07420074137187695, 0.036019777364988806, 0.08716786122327291, 0.027375030797391495, 0.998487757285871, 0.1589561236849831, 0.017184445803781957, 0.09021834046985529, 0.6830817207003329, 0.05155333741134588, 0.010888710077305663, 0.012444240088349328, 0.95042883674768, 0.026444010187742322, 0.99723919221821, 0.10341501366565321, 0.7278825961851745, 0.1113700147168573, 0.007955001051204093, 0.043752505781622514, 0.4902975493228816, 0.15902192350462452, 0.1794710362094552, 0.09887747437276956, 0.07241391675475337, 0.432254416599853, 0.15137033059368024, 0.18081348558982566, 0.17160121010023416, 0.06394402986892936, 0.9990770067467769, 0.05067655152832426, 0.06368809854235345, 0.667697807298867, 0.008217819166755284, 0.21023920701615603, 0.03699129199726626, 0.03699129199726626, 0.0227638719983177, 0.8991729439335491, 0.005690967999579425, 0.30929360492861996, 0.1909112161199768, 0.11210585567593159, 0.27825963555021277, 0.10949063353730176, 0.01174421002148054, 0.014093052025776646, 0.7304898633360896, 0.2372330424339069, 0.007046526012888323, 0.6784104058115069, 0.12013089053787751, 0.13740999123168182, 0.04278634457513446, 0.02139317228756723, 0.18922054711515426, 0.0690238473753393, 0.015470862342748462, 0.6854782084171627, 0.04165232169201509, 0.252814838891644, 0.2360759568645717, 0.21327644513804214, 0.17893287684111792, 0.11890378267506545, 0.021207209916344984, 0.07830354430650456, 0.07504089662706687, 0.13376855485694528, 0.6916813080407903, 0.07679480037148165, 0.07679480037148165, 0.07525890436405201, 0.0890819684309187, 0.6834737233061866, 0.9941027688815094, 0.8321018853136833, 0.007331294143732893, 0.0549847060779967, 0.1026381180122605, 0.007331294143732893, 0.1495785046336799, 0.10625231708461398, 0.18465208503054276, 0.47349333535764876, 0.08458922331008104, 0.8259975615944884, 0.023449185566912376, 0.06624394922652746, 0.0685888677832187, 0.016414429896838664, 0.004241880914557847, 0.16846327060672592, 0.36116586072521095, 0.12604446146114745, 0.3405624391402157, 0.3714588595413148, 0.15003269446212428, 0.15008336406511724, 0.13219699420860598, 0.19619270278870155, 0.028210387800795045, 0.21157790850596284, 0.16724729910471348, 0.5299522851149354, 0.062465858701760454, 0.006840065389663644, 0.049400472258681875, 0.31768303698660033, 0.01976018890347275, 0.6064857978835098, 0.02814073629481017, 0.5372322383554669, 0.20005505256855957, 0.22461424060766663, 0.010232995016294606, 0.0022668643116922752, 0.011334321558461376, 0.8795433529366027, 0.06800592935076825, 0.03853669329876867, 0.18234399359167847, 0.29411593344733433, 0.23428739068509172, 0.14143980043462626, 0.1478464812905501, 0.3945876427964063, 0.13033349413578268, 0.18123700822813293, 0.2314572536749483, 0.06251908106644359, 0.25616401579797127, 0.28523784581185146, 0.24987778228145663, 0.10608019059118443, 0.10241322103988422, 0.8419393794495248, 0.03508080747706353, 0.09354881993883608, 0.02338720498470902, 0.005846801246177255, 0.07658211608501729, 0.7986420677437518, 0.08387565095025704, 0.014587069730479484, 0.025527372028339098, 0.023868735926034144, 0.05728496622248195, 0.004773747185206829, 0.6492296171881288, 0.2673298423715824, 0.1497683024024967, 0.19048201567696182, 0.20793074993744687, 0.38314512313648424, 0.06834087585356645, 0.9267173559651765, 0.01875946064706835, 0.0375189212941367, 0.007503784258827339, 0.01125567638824101, 0.9418632436256342, 0.005050205059654875, 0.04545184553689388, 0.006312756324568594, 0.0012625512649137188, 0.09690019633407453, 0.11529896778991147, 0.25022329179938235, 0.3593893357706815, 0.17785479073975705, 0.2729216357562156, 0.6060986975884788, 0.0389888051080308, 0.058483207662046205, 0.0230388393820182, 0.7259209334733138, 0.08047903918772879, 0.0933556854577654, 0.09496526624151998, 0.0053652692791819195, 0.9969320964774321, 0.9521143072660045, 0.02069813711447836, 0.01034906855723918, 0.006899379038159453, 0.01034906855723918, 0.011780123921723453, 0.027486955817354723, 0.7421478070685775, 0.21596893856492996, 0.9970880204872546, 0.03295630969507793, 0.0922776671462182, 0.7514038610477768, 0.11864271490228054, 0.004394174626010391, 0.07941457837038875, 0.5703410628418828, 0.07941457837038875, 0.11551211399329273, 0.1516096496161967, 0.3213842274599659, 0.2158408864893854, 0.21641139103517232, 0.13558991371535842, 0.1108680500645918, 0.39397546474290074, 0.16546969519201832, 0.1072825496299899, 0.24062809154297168, 0.0927357632394828, 0.10072576715991102, 0.7524807311358059, 0.026662703071741154, 0.059250451270535895, 0.059250451270535895, 0.048095369537972006, 0.18757194119809084, 0.6829542474392025, 0.014428610861391602, 0.06733351735316082, 0.12734024963408164, 0.647312935639915, 0.06897596855179422, 0.07428181228654762, 0.08224057788867772, 0.005203794640695321, 0.043364955339127674, 0.29314709809250306, 0.551602231913704, 0.10581049102747153, 0.19234158153238334, 0.20466098034954014, 0.21568882929070468, 0.25195157580894845, 0.13541403699826368, 0.08100475322452633, 0.7857461062779054, 0.032401901289810534, 0.03645213895103685, 0.06885404024084738, 0.17435148134537337, 0.4039364472390902, 0.13974737054400155, 0.15039478925211597, 0.13176180651291575, 0.3512089504049252, 0.5641760799057841, 0.054175848732674635, 0.026153858008877408, 0.00373626542983963, 0.3649544549620473, 0.18371856916456802, 0.12697152077396787, 0.2433029699746982, 0.08086454395660524, 0.84928540102318, 0.02918506532725704, 0.05982938392087694, 0.04085909145815986, 0.018970292462717076, 0.9107420827659441, 0.0074592760288942385, 0.045821267034636036, 0.03516515842192998, 0.0007104072408470703, 0.11204431966770192, 0.05602215983385096, 0.2520997192523293, 0.5695586249774848, 0.01400553995846274, 0.14765124115261818, 0.1342284010478347, 0.026845680209566944, 0.5503364442961223, 0.13870268108276254, 0.2845488875656862, 0.1498575994159388, 0.4354897949292101, 0.08269250666566261, 0.04730444704454935, 0.01513550778676496, 0.23630921834820132, 0.22215019493477603, 0.2416798824015695, 0.2856216792018549, 0.05180966334193891, 0.1778798441406569, 0.7132463653406923, 0.050082674563874274, 0.005180966334193891, 0.2543470160496318, 0.3494354647103886, 0.19251035618435433, 0.12133986086771424, 0.08225442491513321, 0.01688551125364243, 0.008442755626821214, 0.01688551125364243, 0.5262651007385223, 0.43198766290568547, 0.8557153015137209, 0.010372306685014798, 0.027659484493372796, 0.08816460682262578, 0.017287177808357996, 0.8683791534767704, 0.0075249493368870915, 0.01956486827590644, 0.0902993920426451, 0.015049898673774183, 0.8874860078404219, 0.00965301096208228, 0.03211103646570228, 0.062449070917960876, 0.008274009396070526, 0.30808037553598794, 0.15097609723373007, 0.07520949493193195, 0.3571058240842102, 0.10807882975403554, 0.0042901343718583975, 0.19305604673362792, 0.66926096200991, 0.11154349366831835, 0.02145067185929199, 0.2638182326388221, 0.681530434316957, 0.03997245949073062, 0.011991737847219186, 0.0019986229745365307, 0.015057906632748494, 0.09034743979649096, 0.16940144961842055, 0.7227795183719277, 0.2180121944670044, 0.3463429526558435, 0.2765490315355977, 0.07729864382134752, 0.08217671357706362, 0.9972331023829418, 0.47102232212673484, 0.2787278556019315, 0.1689019437929201, 0.06383383321751204, 0.01744527118987907, 0.04004593831355006, 0.10011484578387514, 0.0040045938313550055, 0.8489738922472612, 0.006249344933959696, 0.10780120011080475, 0.19216735671926063, 0.010936353634429467, 0.6827409340350967, 0.009938244394400778, 0.017391927690201363, 0.7056153520024553, 0.11180524943700876, 0.15404278811321206, 0.21622111809288413, 0.04926557121103689, 0.02189580942712751, 0.7088768302032531, 0.0027369761783909386, 0.5225587007816851, 0.023402119933225593, 0.0611646316436578, 0.3548878301237449, 0.03802844489149159, 0.23720084489504512, 0.05993283559953414, 0.365190744919828, 0.2234828847467073, 0.11427193987644509, 0.1914054461084675, 0.612497427547096, 0.04848937968081177, 0.1071870498207418, 0.040833161836473064, 0.8217584368639376, 0.0812922324639594, 0.06450361923770692, 0.013254168336515122, 0.01943944689355551, 0.019035481473971886, 0.1332483703178032, 0.8280434441177771, 0.01495644972954934, 0.004079031744422547, 0.558008748061426, 0.17329944044547288, 0.05433310837146326, 0.15527423861607748, 0.05922566315372773, 0.01681738570321624, 0.030271294265789235, 0.6659684738473631, 0.1311756084850867, 0.15471994846958942, 0.0034483701871756245, 0.8207121045477986, 0.0034483701871756245, 0.0017241850935878122, 0.17069432426519343, 0.004265394390420183, 0.008530788780840366, 0.8018941453989944, 0.18341195878806787, 0.004265394390420183, 0.01891442579269349, 0.0022926576718416353, 0.3825872489885729, 0.5952312480518845, 0.0008597466269406131, 0.05907244640954584, 0.003692027900596615, 0.3396665668548886, 0.5981085198966517, 0.24907896250920916, 0.3264513607928481, 0.11271637719722347, 0.18265233547303966, 0.1290932563155747, 0.1256510069317302, 0.44504776003561214, 0.1442959950570837, 0.10133145720300822, 0.18401792628066294, 0.17817630605337792, 0.0911221291231887, 0.4466611507913446, 0.0894949482459889, 0.19444811482537588, 0.00790406470294795, 0.14001486045222084, 0.08581555963200632, 0.01354982520505363, 0.7520152988804765, 0.010456675480607617, 0.1986768341315447, 0.6650445605666444, 0.09411007932546854, 0.03346136153794437, 0.1509686349021802, 0.43280204126479305, 0.1904177254293831, 0.11341613526570825, 0.1122781807312697, 0.08600155039594151, 0.41240509546591836, 0.1790441633973987, 0.10310127386647959, 0.2192788068574883, 0.06468251152264635, 0.4765579157771445, 0.1493405045449335, 0.1617062788066159, 0.1483892911401887, 0.022362021844076232, 0.9541129320139192, 0.007454007281358744, 0.011181010922038116, 0.007454007281358744, 0.8562102709026483, 0.004810170061250833, 0.024050850306254166, 0.10582374134751833, 0.009620340122501667, 0.08615806180911048, 0.30130129217455015, 0.18390463485570366, 0.0821272752917252, 0.3466476404951346, 0.015631586167293737, 0.9483162274824867, 0.0338684366958031, 0.002605264361215623, 0.052106266140492276, 0.21338756609915885, 0.7319689767354868, 0.049680599681563506, 0.023532915638635347, 0.7713566792663807, 0.09413166255454139, 0.06275444170302759, 0.19696586019553797, 0.327558889541942, 0.20145051092858757, 0.1551689153635158, 0.11893293744047512, 0.41774956439673677, 0.010711527292224021, 0.003570509097408007, 0.542717382806017, 0.024993563681856047, 0.09992656782226428, 0.19116386887737513, 0.5546648619699597, 0.0579284451143561, 0.09558193443868757, 0.3857886673118856, 0.03709506416460438, 0.5712639881349075, 0.003709506416460438, 0.8280369282688108, 0.02471752024683017, 0.004119586707805029, 0.14006594806537098, 0.004119586707805029, 0.8993847845378651, 0.03547868972535957, 0.06208770701937925, 0.0017739344862679784, 0.0017739344862679784, 0.8721714379167727, 0.06070057626526989, 0.06709011060898251, 0.00319476717185631, 0.4346367445327217, 0.13597971860073685, 0.255940883963167, 0.05321719353615225, 0.1203171332121703, 0.020203999722344962, 0.9524742726248339, 0.02597657107158638, 0.002886285674620709, 0.002886285674620709, 0.00518936711347038, 0.002306385383764613, 0.05016388209688034, 0.009802137880999607, 0.932932887732786, 0.0860567723695401, 0.05274447338778264, 0.058296523218075554, 0.049968448472636186, 0.7523027520046892, 0.09844484564533473, 0.00943991670571703, 0.020228392940822206, 0.00943991670571703, 0.8630780988084141, 0.4217748832820525, 0.4677375308191993, 0.06578967196493554, 0.03875282047249628, 0.005407370298487852, 0.8547434370482458, 0.023101173974276915, 0.0068679165869471905, 0.10114568064413136, 0.013735833173894381, 0.6571933088513603, 0.060009474198352494, 0.0895663794005261, 0.1759979355220338, 0.017241528034601276, 0.07121844516994072, 0.037124508652415907, 0.6409660065294664, 0.2303234822517232, 0.0200775403936535, 0.009920445759638317, 0.003306815253212772, 0.001653407626606386, 0.8068629217839164, 0.1785680236734897, 0.009486220189161447, 0.0910677138159499, 0.7152610022627731, 0.05691732113496869, 0.1290125945725957, 0.019084613020139734, 0.0787240287080764, 0.05785023321729857, 0.8266023014348023, 0.017295430549501636, 0.053888405932885165, 0.3608180223332311, 0.002342974170995007, 0.5716856977227818, 0.009371896683980028, 0.8132263511859978, 0.08273694181631457, 0.0735439482811685, 0.02404321386115124, 0.006364380139716505, 0.01228146027995741, 0.04807314452440472, 0.6403904288834935, 0.10456786181220881, 0.19474887015361037, 0.008203224185746835, 0.17226770790068352, 0.6029369776523923, 0.049219345114481006, 0.1681660958078101, 0.8619652623490409, 0.10152477685866301, 0.023888182790273653, 0.003981363798378942, 0.007962727596757884, 0.8959763429801184, 0.023892702479469823, 0.06968704889845366, 0.0019910585399558187, 0.008627920339808548, 0.051904482267431086, 0.793946339868483, 0.07881791751721016, 0.02114627055339785, 0.053826870499558165, 0.6948024210666176, 0.04260724439304707, 0.2367745438413616, 0.006391086658957061, 0.019173259976871183, 0.5706036377511298, 0.13869516699873405, 0.10118886831738624, 0.07042198268034314, 0.11906296378271607, 0.0330598417950435, 0.039314406458970656, 0.6915761499828019, 0.05361055426223271, 0.1822758844915912, 0.8911703000616615, 0.017337943580966176, 0.062416596891478236, 0.027740709729545884, 0.0034675887161932355, 0.017749101395627805, 0.03549820279125561, 0.4011296915411884, 0.5431225027062109, 0.003549820279125561, 0.05000194190824542, 0.13987885014838275, 0.24557915772657243, 0.0721547009815187, 0.49242418740018906, 0.8381780306427717, 0.024652295018905052, 0.027117524520795556, 0.05916550804537213, 0.05176981953970061, 0.013686981958663056, 0.004562327319554352, 0.8303435721588921, 0.13230749226707622, 0.013686981958663056, 0.05631887698146796, 0.01407971924536699, 0.02815943849073398, 0.009386479496911328, 0.8964087919550318, 0.8693244509455026, 0.08806881692585157, 0.0028409295782532763, 0.03977301409554587, 0.23592176610596316, 0.6036821662123175, 0.010408313210557197, 0.08326650568445758, 0.06938875473704799, 0.033189557711561596, 0.23551820760704287, 0.6440050717493394, 0.05935824744567747, 0.02744521118456055, 0.0370912050072269, 0.18081962441023117, 0.7696425038999583, 0.009272801251806725, 0.21121457962823859, 0.07246047622282638, 0.0647519149225257, 0.6105180549838137, 0.04162623102162366, 0.11485680069214756, 0.5982125036049352, 0.16032095096612262, 0.07178550043259221, 0.05503555033165403, 0.1269680270065793, 0.6121672730674359, 0.013603717179276354, 0.24486690922697438, 0.22411058356710062, 0.04932868823080204, 0.0036539769059853364, 0.004871969207980448, 0.7186154581771161, 0.034579566278705745, 0.17900010779565326, 0.4891991582369842, 0.0640739022223077, 0.23392059541477414, 0.8183944581385315, 0.06529743017062752, 0.08889615054808236, 0.006873413702171317, 0.02062024110651395, 0.7345070779124061, 0.1586144852634764, 0.07198657408111621, 0.012201114251036645, 0.022572061364417795, 0.0027804209547023454, 0.0013902104773511727, 0.0013902104773511727, 0.9314410198252857, 0.06394968195815394, 0.018148884539461747, 0.01693895890349763, 0.002419851271928233, 0.8324288375433122, 0.12946204304816047, 0.025234045615623486, 0.1795822912978538, 0.30280854738748186, 0.13205817205509623, 0.3600057174495617, 0.017746606368608295, 0.10693467940058844, 0.4450302827820234, 0.21750968831268627, 0.21295927642329954, 0.01276777303422455, 0.2904668365286085, 0.004787914887834206, 0.6926516871066819, 0.2086471781704341, 0.3133585872894252, 0.16831389465793384, 0.19119527665060226, 0.11828511030108253, 0.4989151632877695, 0.14279338500217434, 0.1155887832043463, 0.19264797200724385, 0.050100782496452556, 0.060236534062321496, 0.013690121377800341, 0.09035480109348225, 0.6133174377254552, 0.2217799663203655, 0.005036640430784128, 0.050366404307841284, 0.040293123446273026, 0.005036640430784128, 0.901558637110359, 0.7903653298891911, 0.02378347047739951, 0.050177321860855065, 0.12964891833411685, 0.0058008464579023195, 0.6939294925805596, 0.04253756595303798, 0.12761269785911394, 0.10946333638581773, 0.0266568746639038, 0.8757955535257606, 0.032041300738747336, 0.007120289053054963, 0.08188332411013208, 0.20594339664099104, 0.32818579086645644, 0.18141705639830213, 0.16234101398732187, 0.12224239422546539, 0.011986316289484334, 0.15582211176329636, 0.00799087752632289, 0.8030831913954504, 0.019977193815807225, 0.9987029702834032, 0.9393156542251726, 0.009164055163172416, 0.004582027581586208, 0.03207419307110345, 0.013746082744758623, 0.26666982220597946, 0.3054357130266635, 0.12172983550698878, 0.1456807362051184, 0.1604957263276728, 0.15721652524915347, 0.6049418471543514, 0.09484257773182628, 0.06493726042899817, 0.07860826262457674, 0.7893630094473912, 0.06096969834679933, 0.05286202569429942, 0.08237395414939909, 0.014269503868399843, 0.9129854895463958, 0.018259709790927916, 0.017118477928994923, 0.044508042615386795, 0.007418007102564466, 0.8908369031579491, 0.026617504417306807, 0.0181225561990174, 0.05266867895339432, 0.01189292750560517, 0.6885382039160655, 0.08096080283371211, 0.13703915709009068, 0.06610560965321448, 0.027482107383920627, 0.8204459054257304, 0.10074379934114533, 0.04855996083350171, 0.01956893944036636, 0.010146857487597373, 0.22017298514523076, 0.5830506828845926, 0.05708188503765242, 0.04892733003227351, 0.09377738256185755, 0.3778823436657502, 0.19790280844154903, 0.10641943472800278, 0.22964193809726915, 0.08812275998529352, 0.9981019475076135, 0.26939462049864765, 0.2488203296729753, 0.2954339573248893, 0.10737208024647771, 0.0790824303611782, 0.8346452191686579, 0.051579198937388965, 0.03751214468173743, 0.04689018085217179, 0.028134108511303074, 0.30203400450981766, 0.22621604231216877, 0.20733891703030516, 0.15287376867607574, 0.11171544634020919, 0.4666196348363454, 0.22177185143445255, 0.13335459631710236, 0.1420991600100271, 0.036192777506827416, 0.33116333158127953, 0.03548178552656567, 0.026611339144924247, 0.6061471694121634, 0.002956815460547139, 0.27786283356738706, 0.5144709232863411, 0.2062737192421651, 0.08407948460856009, 0.014013247434760014, 0.5945620697319606, 0.3042876585833603, 0.003002838736020003, 0.9956199770020788, 0.9957671397658868], \"Term\": [\"10\", \"10\", \"10\", \"10\", \"10\", \"15\", \"15\", \"15\", \"15\", \"15\", \"20\", \"20\", \"20\", \"20\", \"20\", \"30\", \"30\", \"30\", \"30\", \"30\", \"45\", \"45\", \"45\", \"45\", \"45\", \"apology\", \"apology\", \"apology\", \"apology\", \"ask\", \"ask\", \"ask\", \"ask\", \"ask\", \"asked\", \"asked\", \"asked\", \"asked\", \"asked\", \"attitude\", \"attitude\", \"attitude\", \"attitude\", \"attitude\", \"auch\", \"authentic\", \"authentic\", \"authentic\", \"authentic\", \"authentic\", \"avocado\", \"avocado\", \"avocado\", \"avocado\", \"avocado\", \"bad\", \"bad\", \"bad\", \"bad\", \"bad\", \"bag\", \"bag\", \"bag\", \"bag\", \"bag\", \"baked\", \"baked\", \"baked\", \"baked\", \"baked\", \"bar\", \"bar\", \"bar\", \"bar\", \"bar\", \"bartender\", \"bartender\", \"bartender\", \"bartender\", \"bartender\", \"bathroom\", \"bathroom\", \"bathroom\", \"bathroom\", \"bathroom\", \"bbq\", \"bbq\", \"bbq\", \"bbq\", \"bbq\", \"beans\", \"beans\", \"beans\", \"beans\", \"beans\", \"beef\", \"beef\", \"beef\", \"beef\", \"beef\", \"beer\", \"beer\", \"beer\", \"beer\", \"beer\", \"beers\", \"beers\", \"beers\", \"beers\", \"beers\", \"bell\", \"bell\", \"bell\", \"bell\", \"best\", \"best\", \"best\", \"best\", \"best\", \"better\", \"better\", \"better\", \"better\", \"better\", \"bland\", \"bland\", \"bland\", \"bland\", \"bland\", \"box\", \"box\", \"box\", \"box\", \"box\", \"bread\", \"bread\", \"bread\", \"bread\", \"bread\", \"brisket\", \"brisket\", \"brisket\", \"brisket\", \"brisket\", \"brunch\", \"brunch\", \"brunch\", \"brunch\", \"brunch\", \"buffet\", \"buffet\", \"buffet\", \"buffet\", \"buffet\", \"bun\", \"bun\", \"bun\", \"bun\", \"bun\", \"burger\", \"burger\", \"burger\", \"burger\", \"burger\", \"burgers\", \"burgers\", \"burgers\", \"burgers\", \"burrito\", \"burrito\", \"burrito\", \"burrito\", \"butter\", \"butter\", \"butter\", \"butter\", \"butter\", \"calamari\", \"calamari\", \"calamari\", \"calamari\", \"calamari\", \"called\", \"called\", \"called\", \"called\", \"called\", \"came\", \"came\", \"came\", \"came\", \"came\", \"casino\", \"casino\", \"casino\", \"casino\", \"casino\", \"cheese\", \"cheese\", \"cheese\", \"cheese\", \"cheese\", \"chicken\", \"chicken\", \"chicken\", \"chicken\", \"chicken\", \"chinese\", \"chinese\", \"chinese\", \"chinese\", \"chinese\", \"chipotle\", \"chipotle\", \"chipotle\", \"chipotle\", \"chipotle\", \"chips\", \"chips\", \"chips\", \"chips\", \"chips\", \"choices\", \"choices\", \"choices\", \"choices\", \"choices\", \"club\", \"club\", \"club\", \"club\", \"come\", \"come\", \"come\", \"come\", \"come\", \"cooked\", \"cooked\", \"cooked\", \"cooked\", \"cooked\", \"cool\", \"cool\", \"cool\", \"cool\", \"cool\", \"crispy\", \"crispy\", \"crispy\", \"crispy\", \"crispy\", \"crust\", \"crust\", \"customer\", \"customer\", \"customer\", \"customer\", \"customer\", \"customers\", \"customers\", \"customers\", \"customers\", \"customers\", \"das\", \"deliver\", \"deliver\", \"deliver\", \"deliver\", \"deliver\", \"delivery\", \"delivery\", \"delivery\", \"delivery\", \"der\", \"desserts\", \"desserts\", \"desserts\", \"desserts\", \"desserts\", \"did\", \"did\", \"did\", \"did\", \"did\", \"didn\", \"didn\", \"didn\", \"didn\", \"didn\", \"die\", \"dish\", \"dish\", \"dish\", \"dish\", \"dish\", \"dog\", \"dog\", \"dog\", \"dog\", \"dog\", \"don\", \"don\", \"don\", \"don\", \"don\", \"dressing\", \"dressing\", \"dressing\", \"dressing\", \"dressing\", \"drinks\", \"drinks\", \"drinks\", \"drinks\", \"drinks\", \"drive\", \"drive\", \"drive\", \"drive\", \"drive\", \"eat\", \"eat\", \"eat\", \"eat\", \"eat\", \"egg\", \"egg\", \"egg\", \"egg\", \"egg\", \"eggs\", \"eggs\", \"eggs\", \"eggs\", \"eggs\", \"es\", \"explained\", \"explained\", \"explained\", \"explained\", \"explained\", \"extra\", \"extra\", \"extra\", \"extra\", \"extra\", \"finally\", \"finally\", \"finally\", \"finally\", \"finally\", \"flavor\", \"flavor\", \"flavor\", \"flavor\", \"flavor\", \"food\", \"food\", \"food\", \"food\", \"food\", \"french\", \"french\", \"french\", \"french\", \"french\", \"fried\", \"fried\", \"fried\", \"fried\", \"fried\", \"fries\", \"fries\", \"fries\", \"fries\", \"fries\", \"garlic\", \"garlic\", \"garlic\", \"garlic\", \"garlic\", \"good\", \"good\", \"good\", \"good\", \"good\", \"got\", \"got\", \"got\", \"got\", \"got\", \"great\", \"great\", \"great\", \"great\", \"great\", \"greeted\", \"greeted\", \"greeted\", \"greeted\", \"greeted\", \"groupon\", \"groupon\", \"groupon\", \"groupon\", \"groupon\", \"guacamole\", \"guacamole\", \"guacamole\", \"guacamole\", \"guacamole\", \"home\", \"home\", \"home\", \"home\", \"home\", \"host\", \"host\", \"host\", \"host\", \"host\", \"hostess\", \"hostess\", \"hostess\", \"hostess\", \"hostess\", \"hot\", \"hot\", \"hot\", \"hot\", \"hot\", \"hotel\", \"hotel\", \"hotel\", \"hotel\", \"hotel\", \"hour\", \"hour\", \"hour\", \"hour\", \"hour\", \"ich\", \"ignored\", \"ignored\", \"ignored\", \"ignored\", \"ignored\", \"indian\", \"indian\", \"indian\", \"indian\", \"ist\", \"italian\", \"italian\", \"italian\", \"italian\", \"italian\", \"joint\", \"joint\", \"joint\", \"joint\", \"joint\", \"just\", \"just\", \"just\", \"just\", \"just\", \"know\", \"know\", \"know\", \"know\", \"know\", \"la\", \"la\", \"la\", \"la\", \"la\", \"lamb\", \"lamb\", \"lamb\", \"lamb\", \"lamb\", \"las\", \"las\", \"las\", \"las\", \"las\", \"lettuce\", \"lettuce\", \"lettuce\", \"lettuce\", \"lettuce\", \"like\", \"like\", \"like\", \"like\", \"like\", \"limited\", \"limited\", \"limited\", \"limited\", \"limited\", \"lot\", \"lot\", \"lot\", \"lot\", \"lot\", \"loud\", \"loud\", \"loud\", \"loud\", \"loud\", \"make\", \"make\", \"make\", \"make\", \"make\", \"management\", \"management\", \"management\", \"management\", \"management\", \"manager\", \"manager\", \"manager\", \"manager\", \"manager\", \"margarita\", \"margarita\", \"margarita\", \"margarita\", \"margarita\", \"mcdonald\", \"mcdonald\", \"mcdonald\", \"mcdonald\", \"mcdonald\", \"meal\", \"meal\", \"meal\", \"meal\", \"meal\", \"meat\", \"meat\", \"meat\", \"meat\", \"meat\", \"medium\", \"medium\", \"medium\", \"medium\", \"medium\", \"menu\", \"menu\", \"menu\", \"menu\", \"menu\", \"mexican\", \"mexican\", \"mexican\", \"mexican\", \"mexican\", \"min\", \"min\", \"min\", \"min\", \"min\", \"mins\", \"mins\", \"mins\", \"mins\", \"mins\", \"minutes\", \"minutes\", \"minutes\", \"minutes\", \"minutes\", \"money\", \"money\", \"money\", \"money\", \"money\", \"mushrooms\", \"mushrooms\", \"mushrooms\", \"mushrooms\", \"mushrooms\", \"music\", \"music\", \"music\", \"music\", \"music\", \"nachos\", \"nachos\", \"nachos\", \"nachos\", \"nice\", \"nice\", \"nice\", \"nice\", \"nice\", \"nicht\", \"night\", \"night\", \"night\", \"night\", \"night\", \"noodle\", \"noodle\", \"noodle\", \"noodle\", \"noodles\", \"noodles\", \"noodles\", \"noodles\", \"noodles\", \"oil\", \"oil\", \"oil\", \"oil\", \"oil\", \"online\", \"online\", \"online\", \"online\", \"online\", \"order\", \"order\", \"order\", \"order\", \"order\", \"ordered\", \"ordered\", \"ordered\", \"ordered\", \"ordered\", \"parking\", \"parking\", \"parking\", \"parking\", \"parking\", \"party\", \"party\", \"party\", \"party\", \"party\", \"pasta\", \"pasta\", \"pasta\", \"pasta\", \"pasta\", \"people\", \"people\", \"people\", \"people\", \"people\", \"pepper\", \"pepper\", \"pepper\", \"pepper\", \"pepper\", \"pho\", \"pho\", \"pho\", \"pho\", \"pho\", \"pie\", \"pie\", \"pie\", \"pie\", \"pie\", \"pizza\", \"pizza\", \"pizza\", \"pizza\", \"pizza\", \"pizzas\", \"pizzas\", \"pizzas\", \"pizzas\", \"place\", \"place\", \"place\", \"place\", \"place\", \"places\", \"places\", \"places\", \"places\", \"places\", \"plate\", \"plate\", \"plate\", \"plate\", \"plate\", \"pork\", \"pork\", \"pork\", \"pork\", \"pork\", \"potato\", \"potato\", \"potato\", \"potato\", \"potato\", \"pretty\", \"pretty\", \"pretty\", \"pretty\", \"pretty\", \"price\", \"price\", \"price\", \"price\", \"price\", \"prices\", \"prices\", \"prices\", \"prices\", \"prices\", \"prime\", \"prime\", \"prime\", \"prime\", \"prime\", \"proceeded\", \"proceeded\", \"proceeded\", \"proceeded\", \"proceeded\", \"quality\", \"quality\", \"quality\", \"quality\", \"quality\", \"ramen\", \"ramen\", \"ramen\", \"ramen\", \"rare\", \"rare\", \"rare\", \"raw\", \"raw\", \"raw\", \"raw\", \"raw\", \"really\", \"really\", \"really\", \"really\", \"really\", \"receipt\", \"receipt\", \"receipt\", \"receipt\", \"receipt\", \"red\", \"red\", \"red\", \"red\", \"red\", \"refund\", \"refund\", \"refund\", \"refund\", \"refused\", \"refused\", \"refused\", \"refused\", \"refused\", \"reservation\", \"reservation\", \"reservation\", \"reservation\", \"reservation\", \"reservations\", \"reservations\", \"reservations\", \"reservations\", \"restaurant\", \"restaurant\", \"restaurant\", \"restaurant\", \"restaurant\", \"rib\", \"rib\", \"rib\", \"rib\", \"rib\", \"rice\", \"rice\", \"rice\", \"rice\", \"rice\", \"roll\", \"roll\", \"roll\", \"roll\", \"roll\", \"rolls\", \"rolls\", \"rolls\", \"rolls\", \"rolls\", \"room\", \"room\", \"room\", \"room\", \"room\", \"rude\", \"rude\", \"rude\", \"rude\", \"rude\", \"said\", \"said\", \"said\", \"said\", \"said\", \"salad\", \"salad\", \"salad\", \"salad\", \"salad\", \"salsa\", \"salsa\", \"salsa\", \"salsa\", \"salsa\", \"salt\", \"salt\", \"salt\", \"salt\", \"salt\", \"sandwich\", \"sandwich\", \"sandwich\", \"sandwich\", \"sandwich\", \"sandwiches\", \"sandwiches\", \"sandwiches\", \"sandwiches\", \"sandwiches\", \"sat\", \"sat\", \"sat\", \"sat\", \"sat\", \"sauce\", \"sauce\", \"sauce\", \"sauce\", \"sauce\", \"seasoned\", \"seasoned\", \"seasoned\", \"seasoned\", \"seasoned\", \"seat\", \"seat\", \"seat\", \"seat\", \"seat\", \"seated\", \"seated\", \"seated\", \"seated\", \"seated\", \"selection\", \"selection\", \"selection\", \"selection\", \"selection\", \"server\", \"server\", \"server\", \"server\", \"server\", \"service\", \"service\", \"service\", \"service\", \"service\", \"shrimp\", \"shrimp\", \"shrimp\", \"shrimp\", \"shrimp\", \"situation\", \"situation\", \"situation\", \"situation\", \"situation\", \"slice\", \"slice\", \"slice\", \"slice\", \"slice\", \"soup\", \"soup\", \"soup\", \"soup\", \"soup\", \"speak\", \"speak\", \"speak\", \"speak\", \"speak\", \"spinach\", \"spinach\", \"spinach\", \"spinach\", \"spinach\", \"spring\", \"spring\", \"spring\", \"spring\", \"spring\", \"standing\", \"standing\", \"standing\", \"standing\", \"station\", \"station\", \"station\", \"station\", \"station\", \"steak\", \"steak\", \"steak\", \"steak\", \"steak\", \"steaks\", \"steaks\", \"steaks\", \"steaks\", \"store\", \"store\", \"store\", \"store\", \"store\", \"strip\", \"strip\", \"strip\", \"strip\", \"strip\", \"sum\", \"sum\", \"sum\", \"sum\", \"sushi\", \"sushi\", \"sushi\", \"sushi\", \"sushi\", \"sweet\", \"sweet\", \"sweet\", \"sweet\", \"sweet\", \"table\", \"table\", \"table\", \"table\", \"table\", \"tables\", \"tables\", \"tables\", \"tables\", \"tables\", \"taco\", \"taco\", \"taco\", \"taco\", \"taco\", \"tacos\", \"tacos\", \"tacos\", \"tacos\", \"tacos\", \"taste\", \"taste\", \"taste\", \"taste\", \"taste\", \"tasted\", \"tasted\", \"tasted\", \"tasted\", \"tasted\", \"thai\", \"thai\", \"thai\", \"thai\", \"think\", \"think\", \"think\", \"think\", \"think\", \"time\", \"time\", \"time\", \"time\", \"time\", \"toast\", \"toast\", \"toast\", \"toast\", \"toast\", \"tofu\", \"tofu\", \"tofu\", \"tofu\", \"tofu\", \"told\", \"told\", \"told\", \"told\", \"told\", \"took\", \"took\", \"took\", \"took\", \"took\", \"treated\", \"treated\", \"treated\", \"treated\", \"try\", \"try\", \"try\", \"try\", \"try\", \"turkey\", \"turkey\", \"turkey\", \"turkey\", \"turkey\", \"und\", \"unprofessional\", \"unprofessional\", \"unprofessional\", \"unprofessional\", \"unprofessional\", \"ve\", \"ve\", \"ve\", \"ve\", \"ve\", \"vegas\", \"vegas\", \"vegas\", \"vegas\", \"vegas\", \"wait\", \"wait\", \"wait\", \"wait\", \"wait\", \"waited\", \"waited\", \"waited\", \"waited\", \"waited\", \"waiting\", \"waiting\", \"waiting\", \"waiting\", \"waiting\", \"waitress\", \"waitress\", \"waitress\", \"waitress\", \"waitress\", \"walked\", \"walked\", \"walked\", \"walked\", \"walked\", \"wall\", \"wall\", \"wall\", \"wall\", \"wall\", \"want\", \"want\", \"want\", \"want\", \"want\", \"war\", \"wasn\", \"wasn\", \"wasn\", \"wasn\", \"wasn\", \"watched\", \"watched\", \"watched\", \"watched\", \"watched\", \"way\", \"way\", \"way\", \"way\", \"way\", \"went\", \"went\", \"went\", \"went\", \"went\", \"window\", \"window\", \"window\", \"window\", \"window\", \"wine\", \"wine\", \"wine\", \"wings\", \"wings\", \"wings\", \"wings\", \"wings\", \"wir\", \"zu\"]}, \"R\": 30, \"lambda.step\": 0.01, \"plot.opts\": {\"xlab\": \"PC1\", \"ylab\": \"PC2\"}, \"topic.order\": [5, 2, 4, 3, 1]};\n",
       "\n",
       "function LDAvis_load_lib(url, callback){\n",
       "  var s = document.createElement('script');\n",
       "  s.src = url;\n",
       "  s.async = true;\n",
       "  s.onreadystatechange = s.onload = callback;\n",
       "  s.onerror = function(){console.warn(\"failed to load library \" + url);};\n",
       "  document.getElementsByTagName(\"head\")[0].appendChild(s);\n",
       "}\n",
       "\n",
       "if(typeof(LDAvis) !== \"undefined\"){\n",
       "   // already loaded: just create the visualization\n",
       "   !function(LDAvis){\n",
       "       new LDAvis(\"#\" + \"ldavis_el1221399703611794968709248404\", ldavis_el1221399703611794968709248404_data);\n",
       "   }(LDAvis);\n",
       "}else if(typeof define === \"function\" && define.amd){\n",
       "   // require.js is available: use it to load d3/LDAvis\n",
       "   require.config({paths: {d3: \"https://cdnjs.cloudflare.com/ajax/libs/d3/3.5.5/d3.min\"}});\n",
       "   require([\"d3\"], function(d3){\n",
       "      window.d3 = d3;\n",
       "      LDAvis_load_lib(\"https://cdn.rawgit.com/bmabey/pyLDAvis/files/ldavis.v1.0.0.js\", function(){\n",
       "        new LDAvis(\"#\" + \"ldavis_el1221399703611794968709248404\", ldavis_el1221399703611794968709248404_data);\n",
       "      });\n",
       "    });\n",
       "}else{\n",
       "    // require.js not available: dynamically load d3 & LDAvis\n",
       "    LDAvis_load_lib(\"https://cdnjs.cloudflare.com/ajax/libs/d3/3.5.5/d3.min.js\", function(){\n",
       "         LDAvis_load_lib(\"https://cdn.rawgit.com/bmabey/pyLDAvis/files/ldavis.v1.0.0.js\", function(){\n",
       "                 new LDAvis(\"#\" + \"ldavis_el1221399703611794968709248404\", ldavis_el1221399703611794968709248404_data);\n",
       "            })\n",
       "         });\n",
       "}\n",
       "</script>"
      ],
      "text/plain": [
       "<IPython.core.display.HTML object>"
      ]
     },
     "execution_count": 34,
     "metadata": {
      "tags": []
     },
     "output_type": "execute_result"
    }
   ],
   "source": [
    "vis_data = pyLDAvis.sklearn.prepare(lda, count_data, count_vectorizer)\n",
    "pyLDAvis.display(vis_data)\n"
   ]
  },
  {
   "cell_type": "markdown",
   "metadata": {
    "colab_type": "text",
    "id": "kgOK4OXmxGM1"
   },
   "source": [
    "**Fit NMF Model**"
   ]
  },
  {
   "cell_type": "code",
   "execution_count": 0,
   "metadata": {
    "colab": {
     "base_uri": "https://localhost:8080/",
     "height": 391
    },
    "colab_type": "code",
    "id": "_6XY3n38xLff",
    "outputId": "f5a3413b-4586-461e-b4f6-92e694d54580"
   },
   "outputs": [
    {
     "name": "stdout",
     "output_type": "stream",
     "text": [
      "Fitting the NMF model (Frobenius norm) with tf-idf features, n_samples=20842 and n_features=1000...\n",
      "\n",
      "Topic #0:\n",
      "place like just good really don better ve didn sushi\n",
      "\n",
      "Topic #1:\n",
      "minutes table came server wait took asked waited waitress 10\n",
      "\n",
      "Topic #2:\n",
      "pizza crust cheese pizzas toppings delivery sauce wings ordered slice\n",
      "\n",
      "Topic #3:\n",
      "food service good bad slow terrible horrible great worst place\n",
      "\n",
      "Topic #4:\n",
      "chicken rice ordered fried sauce salad dry got flavor tasted\n",
      "\n",
      "Topic #5:\n",
      "order time customer called said manager location rude told wrong\n",
      "\n",
      "Topic #6:\n",
      "burger fries burgers cheese bun ordered sandwich bacon medium onion\n"
     ]
    }
   ],
   "source": [
    "tfidf_vectorizer = TfidfVectorizer(max_df=0.95, min_df=2,\n",
    "                                   \n",
    "                                   max_features=n_features,\n",
    "                                   stop_words='english')\n",
    "\n",
    "tfidf_data = tfidf_vectorizer.fit_transform(negative_reviews['text_processed'])\n",
    "\n",
    "nmf = NMF(n_components=7, \n",
    "          random_state=1,\n",
    "          alpha=.1, \n",
    "          l1_ratio=.5)\n",
    "\n",
    "nmf.fit(tfidf_data)\n",
    "\n",
    "print(\"Fitting the NMF model (Frobenius norm) with tf-idf features, \"\n",
    "      \"n_samples=%d and n_features=%d...\"\n",
    "      % (n_samples, n_features))\n",
    "print_topics(nmf, tfidf_vectorizer, number_words)"
   ]
  },
  {
   "cell_type": "markdown",
   "metadata": {
    "colab_type": "text",
    "id": "F5bUWq5_JFz3"
   },
   "source": [
    "**Normalize Topic weights and merge to original data**"
   ]
  },
  {
   "cell_type": "code",
   "execution_count": 0,
   "metadata": {
    "colab": {},
    "colab_type": "code",
    "id": "Mnv9sD2WE3cp"
   },
   "outputs": [],
   "source": [
    "from sklearn.preprocessing import normalize\n",
    "\n",
    "nmf_output = nmf.transform(tfidf_data)\n",
    "\n",
    "negative_reviews_f = pd.concat([negative_reviews, \\\n",
    "                                pd.DataFrame(normalize(nmf_output, norm='l1'), \\\n",
    "                                             columns = ['Topic 0', 'Topic 1',\\\n",
    "                                                        'Topic 2', 'Topic 3',\\\n",
    "                                                        'Topic 4', 'Topic 5',\\\n",
    "                                                        'Topic 6'])], axis=1)\n"
   ]
  },
  {
   "cell_type": "markdown",
   "metadata": {
    "colab_type": "text",
    "id": "Ko3HKcZuJMZe"
   },
   "source": [
    "**Verify on random samples to check if the topics make sense**"
   ]
  },
  {
   "cell_type": "code",
   "execution_count": 0,
   "metadata": {
    "colab": {
     "base_uri": "https://localhost:8080/",
     "height": 434
    },
    "colab_type": "code",
    "id": "WFHmYYg6E_An",
    "outputId": "a78a70ee-62ec-411d-8a16-109a85ccb1b1"
   },
   "outputs": [
    {
     "data": {
      "text/html": [
       "<div>\n",
       "<style scoped>\n",
       "    .dataframe tbody tr th:only-of-type {\n",
       "        vertical-align: middle;\n",
       "    }\n",
       "\n",
       "    .dataframe tbody tr th {\n",
       "        vertical-align: top;\n",
       "    }\n",
       "\n",
       "    .dataframe thead th {\n",
       "        text-align: right;\n",
       "    }\n",
       "</style>\n",
       "<table border=\"1\" class=\"dataframe\">\n",
       "  <thead>\n",
       "    <tr style=\"text-align: right;\">\n",
       "      <th></th>\n",
       "      <th>text</th>\n",
       "      <th>Topic 0</th>\n",
       "      <th>Topic 1</th>\n",
       "      <th>Topic 2</th>\n",
       "      <th>Topic 3</th>\n",
       "      <th>Topic 4</th>\n",
       "      <th>Topic 5</th>\n",
       "      <th>Topic 6</th>\n",
       "    </tr>\n",
       "  </thead>\n",
       "  <tbody>\n",
       "    <tr>\n",
       "      <th>12446</th>\n",
       "      <td>The service and ambiance are great. However, I am not big on steak and prefer chicken but I did try to eat many meats there. I wasn't too impressed especially with the limited chicken choices. It was just meat and to me, lacked variety or unique flavors which I thought they were supposed to have. I wouldn't spend this much money again. Some people may really enjoy but it just wasn't great for me. I did want to try the ribs but it never came to my table. The sausage wasn't anything great either and I love sausage.</td>\n",
       "      <td>0.423816</td>\n",
       "      <td>0.079237</td>\n",
       "      <td>0.00000</td>\n",
       "      <td>0.037391</td>\n",
       "      <td>0.459556</td>\n",
       "      <td>0.0</td>\n",
       "      <td>0.000000</td>\n",
       "    </tr>\n",
       "    <tr>\n",
       "      <th>10913</th>\n",
       "      <td>The outside of our Tomahawk steak was burnt and the inside undercooked. The outside crust was not done right and the service was subpar with our server non attentive and even a bit passive aggressive. Perhaps it was because my partner and I were dressed casually in a tee shirt and jeans but with the bill hovering around $160 I still expected good service.\\n\\nThe fried calamari is dismissible and not fried crispy. The bacon is delicious however and I would recommend their portobello fries. It's just disappointing that their steak was cooked wrong and rather tasteless. Perhaps it was the thickness of the cut, but it's still surprising considering that's their main offering. Will likely not be coming back or recommending others to dine here. The venue and bathrooms are nice though.</td>\n",
       "      <td>0.296265</td>\n",
       "      <td>0.069610</td>\n",
       "      <td>0.05133</td>\n",
       "      <td>0.091078</td>\n",
       "      <td>0.179538</td>\n",
       "      <td>0.0</td>\n",
       "      <td>0.312179</td>\n",
       "    </tr>\n",
       "  </tbody>\n",
       "</table>\n",
       "</div>"
      ],
      "text/plain": [
       "                                                                                                                                                                                                                                                                                                                                                                                                                                                                                                                                                                                                                                                                                                                                                                                                                        text  ...   Topic 6\n",
       "12446  The service and ambiance are great. However, I am not big on steak and prefer chicken but I did try to eat many meats there. I wasn't too impressed especially with the limited chicken choices. It was just meat and to me, lacked variety or unique flavors which I thought they were supposed to have. I wouldn't spend this much money again. Some people may really enjoy but it just wasn't great for me. I did want to try the ribs but it never came to my table. The sausage wasn't anything great either and I love sausage.                                                                                                                                                                                                                                                                                 ...  0.000000\n",
       "10913  The outside of our Tomahawk steak was burnt and the inside undercooked. The outside crust was not done right and the service was subpar with our server non attentive and even a bit passive aggressive. Perhaps it was because my partner and I were dressed casually in a tee shirt and jeans but with the bill hovering around $160 I still expected good service.\\n\\nThe fried calamari is dismissible and not fried crispy. The bacon is delicious however and I would recommend their portobello fries. It's just disappointing that their steak was cooked wrong and rather tasteless. Perhaps it was the thickness of the cut, but it's still surprising considering that's their main offering. Will likely not be coming back or recommending others to dine here. The venue and bathrooms are nice though.  ...  0.312179\n",
       "\n",
       "[2 rows x 8 columns]"
      ]
     },
     "execution_count": 96,
     "metadata": {
      "tags": []
     },
     "output_type": "execute_result"
    }
   ],
   "source": [
    "import random\n",
    "num_samples = 2\n",
    "\n",
    "random_index = random.sample(range(len(negative_reviews)), num_samples)\n",
    "negative_reviews_f.iloc[random_index, [5,10,11,12,13,14,15,16]]"
   ]
  },
  {
   "cell_type": "markdown",
   "metadata": {
    "colab_type": "text",
    "id": "seMACdLIOLfL"
   },
   "source": [
    "**Read and merge general business attributes**"
   ]
  },
  {
   "cell_type": "code",
   "execution_count": 0,
   "metadata": {
    "colab": {},
    "colab_type": "code",
    "id": "Wuzw5NfzA9eq"
   },
   "outputs": [],
   "source": [
    "business = pd.read_csv('./yelp_business.csv')\n",
    "\n",
    "cols_to_keep = ['name', 'business_id','city','state', 'postal_code']\n",
    "                                                            \n",
    "negative_reviews_f = pd.merge(negative_reviews_f, business[cols_to_keep], \\\n",
    "                              left_on=['business_id'], right_on=['business_id'],\\\n",
    "                              how = 'left')"
   ]
  },
  {
   "cell_type": "code",
   "execution_count": 0,
   "metadata": {
    "colab": {
     "base_uri": "https://localhost:8080/",
     "height": 1000
    },
    "colab_type": "code",
    "id": "J4hE6pIPNYKd",
    "outputId": "73c6a634-11ed-449a-81c0-a17bfcea0fd5"
   },
   "outputs": [
    {
     "data": {
      "text/html": [
       "<div>\n",
       "<style scoped>\n",
       "    .dataframe tbody tr th:only-of-type {\n",
       "        vertical-align: middle;\n",
       "    }\n",
       "\n",
       "    .dataframe tbody tr th {\n",
       "        vertical-align: top;\n",
       "    }\n",
       "\n",
       "    .dataframe thead th {\n",
       "        text-align: right;\n",
       "    }\n",
       "</style>\n",
       "<table border=\"1\" class=\"dataframe\">\n",
       "  <thead>\n",
       "    <tr style=\"text-align: right;\">\n",
       "      <th></th>\n",
       "      <th>review_id</th>\n",
       "      <th>user_id</th>\n",
       "      <th>business_id</th>\n",
       "      <th>stars</th>\n",
       "      <th>date</th>\n",
       "      <th>text</th>\n",
       "      <th>useful</th>\n",
       "      <th>funny</th>\n",
       "      <th>cool</th>\n",
       "      <th>text_processed</th>\n",
       "      <th>Topic 0</th>\n",
       "      <th>Topic 1</th>\n",
       "      <th>Topic 2</th>\n",
       "      <th>Topic 3</th>\n",
       "      <th>Topic 4</th>\n",
       "      <th>Topic 5</th>\n",
       "      <th>Topic 6</th>\n",
       "      <th>name</th>\n",
       "      <th>city</th>\n",
       "      <th>state</th>\n",
       "      <th>postal_code</th>\n",
       "    </tr>\n",
       "  </thead>\n",
       "  <tbody>\n",
       "    <tr>\n",
       "      <th>0</th>\n",
       "      <td>nXCAYS5UQnuw-CbhGnf5pQ</td>\n",
       "      <td>30SOROHP54Tn6ELl_YgeXg</td>\n",
       "      <td>UFyzcr1y2r3y-e_tNpA9VA</td>\n",
       "      <td>2</td>\n",
       "      <td>2013-03-27</td>\n",
       "      <td>Was driving by Madison and thought we'd get some BBQ.  I had the spicy chicken, which was just a chicken breast on a bun, with sauce on the side.  That was it, not even a big chicken breast? \\n\\nMy wife had the turkey sandwich, which didn't appear to be anything special either.  It looked like it was from a grocery store.\\n\\nKids liked the burger and brats.\\n\\nWhat I didn't like was the prices, sandwich platters were $8.45 each and drinks were $1.99 each.  Wasted my money on these as they don't give you a drink you can take with you and it's a plastic cup.  \\n\\nWhat I did like was the sides, except for the one order of fried biscuit, which was raw in the middle.  Threw them out.\\n\\nLast, I've never been to a BBQ place with no sauces on the table and only one served with the order.  I liked the sauce, but with all of the awards on the wall, they should offer a few options. \\n\\nShould have gotten the pulled pork.</td>\n",
       "      <td>0</td>\n",
       "      <td>0</td>\n",
       "      <td>0</td>\n",
       "      <td>was driving by madison and thought we'd get some bbq  i had the spicy chicken which was just a chicken breast on a bun with sauce on the side  that was it not even a big chicken breast my wife had the turkey sandwich which didn't appear to be anything special either  it looked like it was from a grocery storekids liked the burger and bratswhat i didn't like was the prices sandwich platters were $845 each and drinks were $199 each  wasted my money on these as they don't give you a drink you can take with you and it's a plastic cup  what i did like was the sides except for the one order of fried biscuit which was raw in the middle  threw them outlast i've never been to a bbq place with no sauces on the table and only one served with the order  i liked the sauce but with all of the awards on the wall they should offer a few options should have gotten the pulled pork</td>\n",
       "      <td>0.163363</td>\n",
       "      <td>0.000000</td>\n",
       "      <td>0.0</td>\n",
       "      <td>0.000000</td>\n",
       "      <td>0.492263</td>\n",
       "      <td>0.163090</td>\n",
       "      <td>0.181284</td>\n",
       "      <td>\"Smoky Jon's No 1 B-B-Q\"</td>\n",
       "      <td>Madison</td>\n",
       "      <td>WI</td>\n",
       "      <td>53704</td>\n",
       "    </tr>\n",
       "    <tr>\n",
       "      <th>1</th>\n",
       "      <td>J4W5WaPZSlMuakEsr9wUSw</td>\n",
       "      <td>HhXSYa7Wd0qRY_bRaAEfCw</td>\n",
       "      <td>NvSJGiGwNBwjYi3m0hP38g</td>\n",
       "      <td>2</td>\n",
       "      <td>2016-02-10</td>\n",
       "      <td>This place is noisy! All thanks to 3 raucous employees. They talked non-stop while serving the drive through customers. Were barely courteous to customers in between their noisy bits of gossip and loud singing and flailing arms ( that could be mistaken for a dance move)...\\n\\n2 stars for the other courteous staff, who took care of customer service.</td>\n",
       "      <td>0</td>\n",
       "      <td>0</td>\n",
       "      <td>0</td>\n",
       "      <td>this place is noisy all thanks to 3 raucous employees they talked non-stop while serving the drive through customers were barely courteous to customers in between their noisy bits of gossip and loud singing and flailing arms ( that could be mistaken for a dance move)2 stars for the other courteous staff who took care of customer service</td>\n",
       "      <td>0.082911</td>\n",
       "      <td>0.066585</td>\n",
       "      <td>0.0</td>\n",
       "      <td>0.350123</td>\n",
       "      <td>0.000000</td>\n",
       "      <td>0.500382</td>\n",
       "      <td>0.000000</td>\n",
       "      <td>\"McDonald's\"</td>\n",
       "      <td>Mississauga</td>\n",
       "      <td>ON</td>\n",
       "      <td>L5R 3T7</td>\n",
       "    </tr>\n",
       "  </tbody>\n",
       "</table>\n",
       "</div>"
      ],
      "text/plain": [
       "                review_id                 user_id  ... state  postal_code\n",
       "0  nXCAYS5UQnuw-CbhGnf5pQ  30SOROHP54Tn6ELl_YgeXg  ...  WI    53704      \n",
       "1  J4W5WaPZSlMuakEsr9wUSw  HhXSYa7Wd0qRY_bRaAEfCw  ...  ON    L5R 3T7    \n",
       "\n",
       "[2 rows x 21 columns]"
      ]
     },
     "execution_count": 99,
     "metadata": {
      "tags": []
     },
     "output_type": "execute_result"
    }
   ],
   "source": [
    "negative_reviews_f.head(2)"
   ]
  },
  {
   "cell_type": "code",
   "execution_count": 0,
   "metadata": {
    "colab": {},
    "colab_type": "code",
    "id": "6jaUFrNQOyfO"
   },
   "outputs": [],
   "source": [
    "negative_reviews_f.to_csv('./negative_reviews_w_topic.csv', index = False)"
   ]
  },
  {
   "cell_type": "markdown",
   "metadata": {
    "colab_type": "text",
    "id": "n9GUt-6ROw8-"
   },
   "source": [
    "negative_"
   ]
  },
  {
   "cell_type": "code",
   "execution_count": 0,
   "metadata": {
    "colab": {},
    "colab_type": "code",
    "id": "I1pqnf4rWA5Y"
   },
   "outputs": [],
   "source": [
    "References\n",
    "https://towardsdatascience.com/end-to-end-topic-modeling-in-python-latent-dirichlet-allocation-lda-35ce4ed6b3e0\n",
    "\n",
    "https://towardsdatascience.com/evaluate-topic-model-in-python-latent-dirichlet-allocation-lda-7d57484bb5d0\n",
    "http://www.programmersought.com/article/6566770914/\n",
    "\n",
    "https://medium.com/@Vishwacorp/nlp-analysis-of-yelp-restaurant-reviews-30b3d0e424a6\n",
    "https://www.machinelearningplus.com/nlp/topic-modeling-python-sklearn-examples/\n",
    "https://scikit-learn.org/stable/auto_examples/applications/plot_topics_extraction_with_nmf_lda.html#sphx-glr-auto-examples-applications-plot-topics-extraction-with-nmf-lda-py\n",
    "https://github.com/Vishwacorp/yelp_nlp/blob/f33f67e96bb0144fab3f4929aefb3f1c653d9248/1_extracting_reviews.ipynb"
   ]
  },
  {
   "cell_type": "markdown",
   "metadata": {
    "colab_type": "text",
    "id": "8O0yrdf9bd0o"
   },
   "source": []
  },
  {
   "cell_type": "code",
   "execution_count": 0,
   "metadata": {
    "colab": {},
    "colab_type": "code",
    "id": "mXBNadHwAfd-"
   },
   "outputs": [],
   "source": []
  }
 ],
 "metadata": {
  "colab": {
   "collapsed_sections": [],
   "name": "Topic modeling Yelp.ipynb",
   "provenance": []
  },
  "kernelspec": {
   "display_name": "Python 3",
   "language": "python",
   "name": "python3"
  }
 },
 "nbformat": 4,
 "nbformat_minor": 1
}
