{
 "cells": [
  {
   "cell_type": "markdown",
   "metadata": {},
   "source": [
    "### Imports"
   ]
  },
  {
   "cell_type": "code",
   "execution_count": 2,
   "metadata": {},
   "outputs": [],
   "source": [
    "import json\n",
    "from tqdm import tqdm\n",
    "import pandas as pd\n",
    "import multiprocessing\n",
    "from functools import partial\n",
    "import glob\n"
   ]
  },
  {
   "cell_type": "markdown",
   "metadata": {},
   "source": [
    "### Read JSON data"
   ]
  },
  {
   "cell_type": "code",
   "execution_count": 12,
   "metadata": {},
   "outputs": [],
   "source": [
    "with open('../data/checkin.json', encoding='utf-8') as data_file:\n",
    "    checkin_data = data_file.read()"
   ]
  },
  {
   "cell_type": "markdown",
   "metadata": {},
   "source": [
    "### Parse JSON data and create checkin info for individual restaurants"
   ]
  },
  {
   "cell_type": "code",
   "execution_count": 13,
   "metadata": {},
   "outputs": [
    {
     "name": "stdout",
     "output_type": "stream",
     "text": [
      "done\n"
     ]
    }
   ],
   "source": [
    "\n",
    "checkin_list = checkin_data.split('\\n')[:-1]\n",
    "\n",
    "relevant_businesses = pd.read_csv('../data/restaurants_in_Toronto.csv')\n",
    "\n",
    "def create_df(business):\n",
    "    if relevant_businesses['business_id'].str.contains(business[16:38]).any():\n",
    "        checkin_business = json.loads(business)\n",
    "        tmp_df = pd.DataFrame(checkin_business['date'].split(','), columns = ['datetime'])\n",
    "        tmp_df['business_id'] = checkin_business['business_id']\n",
    "        tmp_df.to_csv('../data/checkin/'+checkin_business['business_id']+'.csv', index = False)\n",
    "\n",
    "pool = multiprocessing.Pool(processes=100)\n",
    "pool.map(create_df, checkin_list)\n",
    "pool.close()\n",
    "pool.join()   \n",
    "print('done')\n"
   ]
  },
  {
   "cell_type": "markdown",
   "metadata": {},
   "source": [
    "### Concat checkin info for all restaurants"
   ]
  },
  {
   "cell_type": "code",
   "execution_count": 14,
   "metadata": {},
   "outputs": [],
   "source": [
    "\n",
    "path = r'../data/checkin' # use your path\n",
    "all_files = glob.glob(path + \"/*.csv\")\n",
    "\n",
    "li = []\n",
    "\n",
    "for filename in all_files:\n",
    "    df = pd.read_csv(filename, index_col=None, header=0)\n",
    "    li.append(df)\n",
    "\n",
    "frame = pd.concat(li, axis=0, ignore_index=True)\n",
    "frame.to_csv('../data/checkin_data_raw.csv', index = False)"
   ]
  },
  {
   "cell_type": "markdown",
   "metadata": {},
   "source": [
    "### Read all checkin data"
   ]
  },
  {
   "cell_type": "code",
   "execution_count": 15,
   "metadata": {},
   "outputs": [],
   "source": [
    "raw_data = pd.read_csv('../data/checkin_data_raw.csv')"
   ]
  },
  {
   "cell_type": "code",
   "execution_count": 16,
   "metadata": {},
   "outputs": [],
   "source": [
    "\n",
    "raw_data['datetime'] = pd.to_datetime(raw_data['datetime'])"
   ]
  },
  {
   "cell_type": "code",
   "execution_count": 30,
   "metadata": {},
   "outputs": [],
   "source": [
    "raw_data['year'] = raw_data['datetime'].dt.year\n",
    "raw_data['date'] = raw_data['datetime'].dt.day\n",
    "raw_data['month'] = raw_data['datetime'].dt.month\n",
    "raw_data['day_of_week'] = raw_data['datetime'].dt.day_name()\n",
    "raw_data['hour'] = raw_data['datetime'].dt.hour"
   ]
  },
  {
   "cell_type": "code",
   "execution_count": 36,
   "metadata": {},
   "outputs": [],
   "source": [
    "raw_data_grouped = raw_data.groupby(['business_id','day_of_week','hour']).size().reset_index(name='checkins')\n",
    "raw_data_grouped.to_csv('../data/restaurant_Toronto_checkin.csv', index = False)"
   ]
  },
  {
   "cell_type": "code",
   "execution_count": null,
   "metadata": {},
   "outputs": [],
   "source": []
  }
 ],
 "metadata": {
  "kernelspec": {
   "display_name": "Python 3",
   "language": "python",
   "name": "python3"
  },
  "language_info": {
   "codemirror_mode": {
    "name": "ipython",
    "version": 3
   },
   "file_extension": ".py",
   "mimetype": "text/x-python",
   "name": "python",
   "nbconvert_exporter": "python",
   "pygments_lexer": "ipython3",
   "version": "3.7.3"
  }
 },
 "nbformat": 4,
 "nbformat_minor": 2
}
