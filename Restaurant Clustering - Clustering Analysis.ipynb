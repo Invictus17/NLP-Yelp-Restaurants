{
 "cells": [
  {
   "cell_type": "code",
   "execution_count": null,
   "metadata": {},
   "outputs": [],
   "source": [
    "scaler = MinMaxScaler()\n",
    "\n",
    "scaled_X = scaler.fit_transform(X)\n",
    "scaled_X = pd.DataFrame(scaled_X, columns=X.columns)\n",
    "plt.scatter(scaled_X['stars'], scaled_X['review_count'])"
   ]
  },
  {
   "cell_type": "code",
   "execution_count": null,
   "metadata": {},
   "outputs": [],
   "source": [
    "# calculate distortion for a range of number of cluster\n",
    "\n",
    "\n",
    "distortions = []\n",
    "for i in range(1, 11):\n",
    "    km = KMeans(\n",
    "        n_clusters=i, init='random',\n",
    "        n_init=10, max_iter=300,\n",
    "        tol=1e-04, random_state=0\n",
    "    )\n",
    "    km.fit(scaled_X)\n",
    "    distortions.append(km.inertia_)\n",
    "\n",
    "# plot\n",
    "plt.plot(range(1, 11), distortions, marker='o')\n",
    "plt.xlabel('Number of clusters')\n",
    "plt.ylabel('Distortion')\n",
    "plt.show()"
   ]
  },
  {
   "cell_type": "code",
   "execution_count": null,
   "metadata": {},
   "outputs": [],
   "source": [
    "scaler = MinMaxScaler()\n",
    "X_scaled = scaler.fit_transform(X)\n",
    "kmeans = KModes(n_clusters = 3)\n",
    "kmeans.fit(X_scaled)\n",
    "y_km = kmeans.fit_predict(X_scaled)\n",
    "pca = PCA(n_components=2).fit(X_scaled)\n",
    "pca_2d = pca.transform(X_scaled)\n",
    "\n",
    "### Plotting ###\n",
    "plt.scatter(pca_2d[y_km ==0,0], pca_2d[y_km == 0,1], s=5, c='red', label = 'Tier III')\n",
    "plt.scatter(pca_2d[y_km ==1,0], pca_2d[y_km == 1,1], s=5, c='green', label = 'Tier I')\n",
    "plt.scatter(pca_2d[y_km ==2,0], pca_2d[y_km == 2,1], s=5, c='blue', label = 'Tier II')\n",
    "plt.scatter(pca_2d[y_km ==3,0], pca_2d[y_km == 3,1], s=5, c='cyan', label = 'Tier IV')\n",
    "\n",
    "plt.legend()\n",
    "axes = plt.gca()\n",
    "axes.set_xlim([-0.4,1.0])\n",
    "axes.set_ylim([-0.7,0.7])\n",
    "\n"
   ]
  }
 ],
 "metadata": {
  "kernelspec": {
   "display_name": "Python 3",
   "language": "python",
   "name": "python3"
  },
  "language_info": {
   "codemirror_mode": {
    "name": "ipython",
    "version": 3
   },
   "file_extension": ".py",
   "mimetype": "text/x-python",
   "name": "python",
   "nbconvert_exporter": "python",
   "pygments_lexer": "ipython3",
   "version": "3.7.3"
  }
 },
 "nbformat": 4,
 "nbformat_minor": 2
}
